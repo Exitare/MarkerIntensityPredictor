{
 "cells": [
  {
   "cell_type": "code",
   "execution_count": 1,
   "metadata": {},
   "outputs": [],
   "source": [
    "import numpy as np\n",
    "import pandas as pd\n",
    "from keras import layers\n",
    "from keras.layers import Input, Dense, Activation, ZeroPadding2D, BatchNormalization, Flatten, Conv2D\n",
    "from keras.layers import AveragePooling2D, MaxPooling2D, Dropout, GlobalMaxPooling2D, GlobalAveragePooling2D\n",
    "from keras.models import Model, Sequential\n",
    "from keras.utils.vis_utils import model_to_dot\n",
    "from keras.utils import plot_model\n",
    "from tensorflow.keras.layers.experimental import preprocessing\n",
    "import pydot\n",
    "from IPython.display import SVG\n",
    "from sklearn.model_selection import train_test_split\n",
    "import keras.backend as K\n",
    "K.set_image_data_format('channels_last')\n",
    "import math\n",
    "import pandas\n",
    "from keras.models import Sequential\n",
    "from keras.layers import Dense\n",
    "from keras.wrappers.scikit_learn import KerasRegressor\n",
    "from sklearn.model_selection import cross_val_score\n",
    "from sklearn.model_selection import KFold\n",
    "from sklearn.preprocessing import StandardScaler\n",
    "from sklearn.pipeline import Pipeline\n",
    "import keras\n",
    "import matplotlib.pyplot as plt\n",
    "from sklearn.linear_model import LinearRegression\n",
    "from sklearn import metrics\n",
    "\n",
    "from normalize import *"
   ]
  },
  {
   "cell_type": "code",
   "execution_count": 2,
   "metadata": {},
   "outputs": [],
   "source": [
    "def get_data():\n",
    "    # Load Data\n",
    "    # We load data into RAM since data is small and will fit in memory.\n",
    "    cells = pd.read_csv(\"tumor_cycif.csv\")\n",
    "    \n",
    "    # Keeps only the 'interesting' columns.\n",
    "    cells = cells.filter(regex=\"Cell Masks$\", axis=1).filter(regex=\"^(?!(Goat|DAPI))\", axis=1)\n",
    "    cells = np.array(cells)\n",
    "    \n",
    "    return cells"
   ]
  },
  {
   "cell_type": "code",
   "execution_count": 3,
   "metadata": {},
   "outputs": [],
   "source": [
    "cells = get_data()\n",
    "\n",
    "# Number of cells\n",
    "assert cells.shape[0] == 12142\n",
    "# Number of features per input\n",
    "assert cells.shape[1] == 25"
   ]
  },
  {
   "cell_type": "code",
   "execution_count": 4,
   "metadata": {},
   "outputs": [],
   "source": [
    "# Two options for normalization:\n",
    "# 1- use the following;\n",
    "# 2- use StandardScaler append to the estimators. \n",
    "#\n",
    "# My experiments show that option one results to \n",
    "# a much lower MAE (~6k vs ~0.05). \n",
    "cells = normalize(cells)"
   ]
  },
  {
   "cell_type": "markdown",
   "metadata": {},
   "source": [
    "### Separate one of the markers as target "
   ]
  },
  {
   "cell_type": "code",
   "execution_count": 5,
   "metadata": {},
   "outputs": [],
   "source": [
    "def xy_split(cells, idx):\n",
    "    y = cells[:, idx]\n",
    "    # This reshape can simplify broadcasting.\n",
    "    y = y.reshape(y.shape[0], 1)\n",
    "    \n",
    "    # `1` means delete column, while `0` means delete row.\n",
    "    X = np.delete(cells, idx, 1)\n",
    "    return X, y\n",
    "\n",
    "# The index of the marker column \n",
    "# whose values will be predicted \n",
    "# using other markers.\n",
    "idx = 10\n",
    "\n",
    "X, y = xy_split(cells, idx)\n",
    "\n",
    "input_dim = X.shape[1]"
   ]
  },
  {
   "cell_type": "markdown",
   "metadata": {},
   "source": [
    "# Option 1: Use a Non-linear Regressor"
   ]
  },
  {
   "cell_type": "code",
   "execution_count": 6,
   "metadata": {},
   "outputs": [],
   "source": [
    "def baseline_model():\n",
    "    inputs = keras.Input(shape=(input_dim))\n",
    "    h1 = layers.Dense(input_dim, activation=\"relu\", kernel_initializer=\"normal\")(inputs)\n",
    "    outputs = layers.Dense(1, kernel_initializer=\"normal\")(h1)\n",
    "    model = keras.Model(inputs, outputs)\n",
    "    model.compile(optimizer=keras.optimizers.Adam(lr=0.0005), loss=\"mean_squared_error\", metrics=['mae'])\n",
    "    return model"
   ]
  },
  {
   "cell_type": "markdown",
   "metadata": {},
   "source": [
    "## k-Fold Cross-Validation"
   ]
  },
  {
   "cell_type": "code",
   "execution_count": 7,
   "metadata": {},
   "outputs": [
    {
     "name": "stdout",
     "output_type": "stream",
     "text": [
      "MSE's: [-0.04946386 -0.05313452 -0.05597474 -0.06072068 -0.05757982 -0.04406999\n",
      " -0.04641924 -0.06189072 -0.05284436 -0.05609052]\n",
      "Baseline: -0.05381884425878525 (0.005540052732538751) MSE\n"
     ]
    }
   ],
   "source": [
    "estimators = []\n",
    "#estimators.append(('standardize', StandardScaler()))\n",
    "# mlp: Multilayer Perceptron\n",
    "estimators.append(('mlp', KerasRegressor(build_fn=baseline_model, epochs=50, batch_size=5, verbose=0)))\n",
    "pipeline = Pipeline(estimators)\n",
    "\n",
    "#history = pipeline.fit(X, y)\n",
    "\n",
    "kfold = KFold(n_splits=10, shuffle=True, random_state=1)\n",
    "results = cross_val_score(pipeline, X, y, cv=kfold)\n",
    "\n",
    "print(f\"MSE's: {results}\")\n",
    "print(f\"Baseline: {results.mean()} ({results.std()}) MSE\")"
   ]
  },
  {
   "cell_type": "markdown",
   "metadata": {},
   "source": [
    "## Train the Model"
   ]
  },
  {
   "cell_type": "code",
   "execution_count": 8,
   "metadata": {},
   "outputs": [],
   "source": [
    "X_train, X_val, y_train, y_val = train_test_split(X, y, test_size=0.1, random_state=1, shuffle=True)\n",
    "regressor = KerasRegressor(build_fn=baseline_model, epochs=100, batch_size=5, verbose=0)\n",
    "history = regressor.fit(X_train, y_train, epochs=50, batch_size=5)"
   ]
  },
  {
   "cell_type": "code",
   "execution_count": 9,
   "metadata": {},
   "outputs": [
    {
     "name": "stdout",
     "output_type": "stream",
     "text": [
      "dict_keys(['loss', 'mae'])\n"
     ]
    }
   ],
   "source": [
    "print(history.history.keys())"
   ]
  },
  {
   "cell_type": "code",
   "execution_count": 10,
   "metadata": {},
   "outputs": [
    {
     "data": {
      "image/png": "[encoded data removed]",
      "text/plain": [
       "<Figure size 432x216 with 1 Axes>"
      ]
     },
     "metadata": {
      "needs_background": "light"
     },
     "output_type": "display_data"
    },
    {
     "data": {
      "image/png": "[encoded data removed]",
      "text/plain": [
       "<Figure size 432x216 with 1 Axes>"
      ]
     },
     "metadata": {
      "needs_background": "light"
     },
     "output_type": "display_data"
    }
   ],
   "source": [
    "def plot(train, x_label):\n",
    "    fig = plt.figure(figsize=(6, 3))\n",
    "    ax = fig.add_axes([0, 0, 1, 1])\n",
    "    ax.plot(train, label='train')\n",
    "    plt.xlabel('Epoch')\n",
    "    plt.ylabel(x_label)\n",
    "    plt.legend(loc='upper right')\n",
    "    plt.show()\n",
    "\n",
    "# Plot loss\n",
    "plot(history.history['loss'], \"Loss\")\n",
    "plot(history.history['mae'], \"Mean Absoloute Error\")\n",
    "#plot(history.history['mae'], history.history['val_mae'], \"Mean Absolute Error\")"
   ]
  },
  {
   "cell_type": "markdown",
   "metadata": {},
   "source": [
    "## Make Some Predictions"
   ]
  },
  {
   "cell_type": "code",
   "execution_count": 11,
   "metadata": {},
   "outputs": [
    {
     "name": "stdout",
     "output_type": "stream",
     "text": [
      "   Actual value: 0.5448250425275016\n",
      "Predicted value: 0.3220791220664978\n"
     ]
    }
   ],
   "source": [
    "idx_validation_cell = 32\n",
    "validation_cell = X_val[idx_validation_cell,:].reshape(1, X_val.shape[1])\n",
    "prediction = regressor.predict(validation_cell)\n",
    "print(f\"   Actual value: {y_val[idx_validation_cell][0]}\")\n",
    "print(f\"Predicted value: {prediction}\")"
   ]
  },
  {
   "cell_type": "markdown",
   "metadata": {},
   "source": [
    "# Option 2: Use a Linear Regressor"
   ]
  },
  {
   "cell_type": "code",
   "execution_count": 12,
   "metadata": {},
   "outputs": [],
   "source": [
    "X_train, X_val, y_train, y_val = train_test_split(X, y, test_size=0.1, random_state=1, shuffle=True)\n",
    "model = LinearRegression().fit(X_train, y_train)"
   ]
  },
  {
   "cell_type": "markdown",
   "metadata": {},
   "source": [
    "## Model Characteristics\n",
    "\n",
    "Consider the model `h_w (x) = w_0 + (w_1 * x)` where `w_0` is a constant and `w_1` is a vector of size of input `x`, these values are computed as the following:"
   ]
  },
  {
   "cell_type": "code",
   "execution_count": 13,
   "metadata": {},
   "outputs": [
    {
     "name": "stdout",
     "output_type": "stream",
     "text": [
      "Intercept    (w_0):\t[-0.06165835]\n",
      "Coefficients (w_1):\t[[-7.89541959e-03  8.53452382e-03 -1.18331267e-02 -8.56068602e-02\n",
      "   7.39735582e-02 -2.81024784e-02  2.34279679e-02 -1.65543451e-02\n",
      "   2.13911562e-03  2.06094955e-01  4.24856397e-01  2.13562165e-01\n",
      "  -6.03062372e-02  4.40194414e-02  5.02652643e-02 -7.51998431e-02\n",
      "  -1.74672966e-01  7.51421628e-03  8.18413296e-03  4.56734685e-02\n",
      "   2.41086739e-02 -1.53716285e-01  4.47698172e-05  4.49237761e-02]]\n"
     ]
    }
   ],
   "source": [
    "print(f\"Intercept    (w_0):\\t{model.intercept_}\")\n",
    "print(f\"Coefficients (w_1):\\t{model.coef_}\")"
   ]
  },
  {
   "cell_type": "markdown",
   "metadata": {},
   "source": [
    "## Model Evaluation: Coefficient of determination (`𝑅²`)\n",
    "The coefficient `𝑅²` is defined as `(1- (u/v))`, where `u` is the residual sum of squares `((y_true - y_pred) ** 2).sum()` and `v` is the total sum of squares `((y_true - y_true.mean()) ** 2).sum()`. The best possible score is `1.0` and it can be negative (because the model can be arbitrarily worse). A constant model that always predicts the expected value of `y`, disregarding the input features, would get a `𝑅²` score of `0.0`. [[REF](https://scikit-learn.org/stable/modules/generated/sklearn.linear_model.LinearRegression.html)]"
   ]
  },
  {
   "cell_type": "code",
   "execution_count": 14,
   "metadata": {},
   "outputs": [
    {
     "name": "stdout",
     "output_type": "stream",
     "text": [
      "R^2 score:\t0.8639697739373515\n"
     ]
    }
   ],
   "source": [
    "print(f\"R^2 score:\\t{model.score(X_val, y_val)}\")"
   ]
  },
  {
   "cell_type": "markdown",
   "metadata": {},
   "source": [
    "`𝑅²` is the fraction of the total sum of squares that is 'explained by' the regression; and RMSE is a measure of the average deviation of the estimates from the observed values [[REF](https://stats.stackexchange.com/a/169017/269404)]. "
   ]
  },
  {
   "cell_type": "code",
   "execution_count": 15,
   "metadata": {},
   "outputs": [
    {
     "name": "stdout",
     "output_type": "stream",
     "text": [
      "Root Mean Square Error:\t0.257000553989291\n"
     ]
    }
   ],
   "source": [
    "y_pred = model.predict(X_val)\n",
    "rmse = np.sqrt(metrics.mean_squared_error(y_val, y_pred))\n",
    "print(f\"Root Mean Square Error:\\t{rmse}\")"
   ]
  },
  {
   "cell_type": "markdown",
   "metadata": {},
   "source": [
    "## Make Some Predictions"
   ]
  },
  {
   "cell_type": "code",
   "execution_count": 16,
   "metadata": {},
   "outputs": [
    {
     "name": "stdout",
     "output_type": "stream",
     "text": [
      "   Actual value: 0.5448250425275016\n",
      "Predicted value: 0.16335633194075322\n"
     ]
    }
   ],
   "source": [
    "validation_cell = X_val[idx_validation_cell,:].reshape(1, X_val.shape[1])\n",
    "prediction = model.predict(validation_cell)\n",
    "print(f\"   Actual value: {y_val[idx_validation_cell][0]}\")\n",
    "print(f\"Predicted value: {prediction[0,0]}\")"
   ]
  },
  {
   "cell_type": "code",
   "execution_count": null,
   "metadata": {},
   "outputs": [],
   "source": []
  }
 ],
 "metadata": {
  "kernelspec": {
   "display_name": "Python 3",
   "language": "python",
   "name": "python3"
  },
  "language_info": {
   "codemirror_mode": {
    "name": "ipython",
    "version": 3
   },
   "file_extension": ".py",
   "mimetype": "text/x-python",
   "name": "python",
   "nbconvert_exporter": "python",
   "pygments_lexer": "ipython3",
   "version": "3.8.0"
  }
 },
 "nbformat": 4,
 "nbformat_minor": 4
}
