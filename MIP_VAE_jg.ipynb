{
 "cells": [
  {
   "cell_type": "code",
   "execution_count": 136,
   "metadata": {},
   "outputs": [],
   "source": [
    "import numpy as np\n",
    "import pandas as pd\n",
    "import tensorflow as tf\n",
    "import keras\n",
    "from keras import layers, regularizers\n",
    "from sklearn.preprocessing import StandardScaler, MinMaxScaler\n",
    "\n",
    "import plotly.express as px\n",
    "import plotly.graph_objects as go\n",
    "from plotly.subplots import make_subplots"
   ]
  },
  {
   "cell_type": "code",
   "execution_count": 146,
   "metadata": {},
   "outputs": [],
   "source": [
    "# Define scaling approach:\n",
    "# 1. log10 transformation\n",
    "# 2. standard scaling\n",
    "# 3. clip to maximum range\n",
    "standard_scaler = StandardScaler()\n",
    "min_max_scaler = MinMaxScaler(feature_range=(0,1)) \n",
    "cycif_scale_func = lambda d: min_max_scaler.fit_transform( standard_scaler.fit_transform(np.log10(d)).clip(min=-10, max=10) )\n",
    "\n",
    "def load_cycif_sample(file_name, scale_fn, patient_id, bx_name):\n",
    "    sample_df = pd.read_csv(file_name, header=0)\n",
    "    sample_df['patient_id'] = patient_id\n",
    "    sample_df['bx'] = bx_name\n",
    "    sample_df['scaled'] = 'N'\n",
    "    sample_df_scaled = sample_df.copy()\n",
    "    marker_cols = sample_df.filter(regex=\"nucleiMasks$\").filter(regex=\"^(?!(DAPI|AF))\").columns\n",
    "    sample_df_scaled[marker_cols] = scale_fn(sample_df[marker_cols])\n",
    "    sample_df_scaled['scaled'] = 'Y'\n",
    "    sample_df_all = pd.concat([sample_df, sample_df_scaled])\n",
    "    return sample_df_all"
   ]
  },
  {
   "cell_type": "code",
   "execution_count": 147,
   "metadata": {},
   "outputs": [
    {
     "output_type": "execute_result",
     "data": {
      "text/plain": [
       "   CellID  DAPI_1_cellMasks  AF488_cellMasks  ...  patient_id  bx  scaled\n",
       "0       1      18399.201646      1938.308642  ...         9-2   1       N\n",
       "1       2      13872.480000      1933.280000  ...         9-2   1       N\n",
       "2       3      10940.505263     11353.252632  ...         9-2   1       N\n",
       "3       4      10590.968254      8699.428571  ...         9-2   1       N\n",
       "4       5      16300.946429      8819.517857  ...         9-2   1       N\n",
       "\n",
       "[5 rows x 79 columns]"
      ],
      "text/html": "<div>\n<style scoped>\n    .dataframe tbody tr th:only-of-type {\n        vertical-align: middle;\n    }\n\n    .dataframe tbody tr th {\n        vertical-align: top;\n    }\n\n    .dataframe thead th {\n        text-align: right;\n    }\n</style>\n<table border=\"1\" class=\"dataframe\">\n  <thead>\n    <tr style=\"text-align: right;\">\n      <th></th>\n      <th>CellID</th>\n      <th>DAPI_1_cellMasks</th>\n      <th>AF488_cellMasks</th>\n      <th>AF555_cellMasks</th>\n      <th>AF647_cellMasks</th>\n      <th>DAPI_2_cellMasks</th>\n      <th>ERK1_1_cellMasks</th>\n      <th>ERK1_2_cellMasks</th>\n      <th>RAD51_cellMasks</th>\n      <th>DAPI_3_cellMasks</th>\n      <th>Cyc_D1_cellMasks</th>\n      <th>Vimentin_cellMasks</th>\n      <th>aSMA_cellMasks</th>\n      <th>DAPI_4_cellMasks</th>\n      <th>E_cadherin_cellMasks</th>\n      <th>ER_alpha_cellMasks</th>\n      <th>PR_cellMasks</th>\n      <th>DAPI_5_cellMasks</th>\n      <th>EGFR_cellMasks</th>\n      <th>Rb_cellMasks</th>\n      <th>CD45_cellMasks</th>\n      <th>DAPI_6_cellMasks</th>\n      <th>Ki67_cellMasks</th>\n      <th>CK19_cellMasks</th>\n      <th>p21_cellMasks</th>\n      <th>DAPI_7_cellMasks</th>\n      <th>CK14_cellMasks</th>\n      <th>AR_cellMasks</th>\n      <th>cPARP_cellMasks</th>\n      <th>DAPI_8_cellMasks</th>\n      <th>CK17_cellMasks</th>\n      <th>CK7_cellMasks</th>\n      <th>HER2_cellMasks</th>\n      <th>X_centroid</th>\n      <th>Y_centroid</th>\n      <th>column_centroid</th>\n      <th>row_centroid</th>\n      <th>Area</th>\n      <th>MajorAxisLength</th>\n      <th>MinorAxisLength</th>\n      <th>Eccentricity</th>\n      <th>Solidity</th>\n      <th>Extent</th>\n      <th>Orientation</th>\n      <th>DAPI_1_nucleiMasks</th>\n      <th>AF488_nucleiMasks</th>\n      <th>AF555_nucleiMasks</th>\n      <th>AF647_nucleiMasks</th>\n      <th>DAPI_2_nucleiMasks</th>\n      <th>ERK1_1_nucleiMasks</th>\n      <th>ERK1_2_nucleiMasks</th>\n      <th>RAD51_nucleiMasks</th>\n      <th>DAPI_3_nucleiMasks</th>\n      <th>Cyc_D1_nucleiMasks</th>\n      <th>Vimentin_nucleiMasks</th>\n      <th>aSMA_nucleiMasks</th>\n      <th>DAPI_4_nucleiMasks</th>\n      <th>E_cadherin_nucleiMasks</th>\n      <th>ER_alpha_nucleiMasks</th>\n      <th>PR_nucleiMasks</th>\n      <th>DAPI_5_nucleiMasks</th>\n      <th>EGFR_nucleiMasks</th>\n      <th>Rb_nucleiMasks</th>\n      <th>CD45_nucleiMasks</th>\n      <th>DAPI_6_nucleiMasks</th>\n      <th>Ki67_nucleiMasks</th>\n      <th>CK19_nucleiMasks</th>\n      <th>p21_nucleiMasks</th>\n      <th>DAPI_7_nucleiMasks</th>\n      <th>CK14_nucleiMasks</th>\n      <th>AR_nucleiMasks</th>\n      <th>cPARP_nucleiMasks</th>\n      <th>DAPI_8_nucleiMasks</th>\n      <th>CK17_nucleiMasks</th>\n      <th>CK7_nucleiMasks</th>\n      <th>HER2_nucleiMasks</th>\n      <th>patient_id</th>\n      <th>bx</th>\n      <th>scaled</th>\n    </tr>\n  </thead>\n  <tbody>\n    <tr>\n      <th>0</th>\n      <td>1</td>\n      <td>18399.201646</td>\n      <td>1938.308642</td>\n      <td>951.753086</td>\n      <td>1536.115226</td>\n      <td>6840.255144</td>\n      <td>1285.267490</td>\n      <td>883.053498</td>\n      <td>1218.925926</td>\n      <td>14302.860082</td>\n      <td>1766.222222</td>\n      <td>280.168724</td>\n      <td>328.765432</td>\n      <td>9072.860082</td>\n      <td>1391.753086</td>\n      <td>358.102881</td>\n      <td>209.806584</td>\n      <td>73.526749</td>\n      <td>1760.004115</td>\n      <td>493.156379</td>\n      <td>1883.617284</td>\n      <td>572.576132</td>\n      <td>1463.831276</td>\n      <td>16.485597</td>\n      <td>514.773663</td>\n      <td>94.288066</td>\n      <td>2164.238683</td>\n      <td>379.246914</td>\n      <td>2489.053498</td>\n      <td>198.650206</td>\n      <td>2298.633745</td>\n      <td>141.518519</td>\n      <td>2568.308642</td>\n      <td>10001.341564</td>\n      <td>668.242798</td>\n      <td>10001.341564</td>\n      <td>668.242798</td>\n      <td>243</td>\n      <td>23.627398</td>\n      <td>13.652582</td>\n      <td>0.816158</td>\n      <td>0.956693</td>\n      <td>0.694286</td>\n      <td>-1.476725</td>\n      <td>18399.201646</td>\n      <td>1938.308642</td>\n      <td>951.753086</td>\n      <td>1536.115226</td>\n      <td>6840.255144</td>\n      <td>1285.267490</td>\n      <td>883.053498</td>\n      <td>1218.925926</td>\n      <td>14302.860082</td>\n      <td>1766.222222</td>\n      <td>280.168724</td>\n      <td>328.765432</td>\n      <td>9072.860082</td>\n      <td>1391.753086</td>\n      <td>358.102881</td>\n      <td>209.806584</td>\n      <td>73.526749</td>\n      <td>1760.004115</td>\n      <td>493.156379</td>\n      <td>1883.617284</td>\n      <td>572.576132</td>\n      <td>1463.831276</td>\n      <td>16.485597</td>\n      <td>514.773663</td>\n      <td>94.288066</td>\n      <td>2164.238683</td>\n      <td>379.246914</td>\n      <td>2489.053498</td>\n      <td>198.650206</td>\n      <td>2298.633745</td>\n      <td>141.518519</td>\n      <td>2568.308642</td>\n      <td>9-2</td>\n      <td>1</td>\n      <td>N</td>\n    </tr>\n    <tr>\n      <th>1</th>\n      <td>2</td>\n      <td>13872.480000</td>\n      <td>1933.280000</td>\n      <td>895.360000</td>\n      <td>1496.160000</td>\n      <td>6647.280000</td>\n      <td>1241.400000</td>\n      <td>864.480000</td>\n      <td>1408.320000</td>\n      <td>14804.480000</td>\n      <td>1709.480000</td>\n      <td>312.600000</td>\n      <td>327.840000</td>\n      <td>7433.440000</td>\n      <td>1342.560000</td>\n      <td>340.280000</td>\n      <td>195.160000</td>\n      <td>69.760000</td>\n      <td>1778.800000</td>\n      <td>498.720000</td>\n      <td>1894.000000</td>\n      <td>569.400000</td>\n      <td>1477.040000</td>\n      <td>17.640000</td>\n      <td>523.680000</td>\n      <td>95.720000</td>\n      <td>2175.960000</td>\n      <td>381.560000</td>\n      <td>2500.080000</td>\n      <td>192.200000</td>\n      <td>2289.400000</td>\n      <td>141.720000</td>\n      <td>2591.960000</td>\n      <td>10017.880000</td>\n      <td>671.240000</td>\n      <td>10017.880000</td>\n      <td>671.240000</td>\n      <td>25</td>\n      <td>8.451853</td>\n      <td>4.046502</td>\n      <td>0.877940</td>\n      <td>0.833333</td>\n      <td>0.625000</td>\n      <td>1.383738</td>\n      <td>13872.480000</td>\n      <td>1933.280000</td>\n      <td>895.360000</td>\n      <td>1496.160000</td>\n      <td>6647.280000</td>\n      <td>1241.400000</td>\n      <td>864.480000</td>\n      <td>1408.320000</td>\n      <td>14804.480000</td>\n      <td>1709.480000</td>\n      <td>312.600000</td>\n      <td>327.840000</td>\n      <td>7433.440000</td>\n      <td>1342.560000</td>\n      <td>340.280000</td>\n      <td>195.160000</td>\n      <td>69.760000</td>\n      <td>1778.800000</td>\n      <td>498.720000</td>\n      <td>1894.000000</td>\n      <td>569.400000</td>\n      <td>1477.040000</td>\n      <td>17.640000</td>\n      <td>523.680000</td>\n      <td>95.720000</td>\n      <td>2175.960000</td>\n      <td>381.560000</td>\n      <td>2500.080000</td>\n      <td>192.200000</td>\n      <td>2289.400000</td>\n      <td>141.720000</td>\n      <td>2591.960000</td>\n      <td>9-2</td>\n      <td>1</td>\n      <td>N</td>\n    </tr>\n    <tr>\n      <th>2</th>\n      <td>3</td>\n      <td>10940.505263</td>\n      <td>11353.252632</td>\n      <td>788.294737</td>\n      <td>4166.000000</td>\n      <td>119.452632</td>\n      <td>898.242105</td>\n      <td>379.168421</td>\n      <td>823.926316</td>\n      <td>143.189474</td>\n      <td>1228.400000</td>\n      <td>149.863158</td>\n      <td>299.642105</td>\n      <td>139.421053</td>\n      <td>1299.115789</td>\n      <td>792.568421</td>\n      <td>275.410526</td>\n      <td>230.221053</td>\n      <td>1875.473684</td>\n      <td>608.410526</td>\n      <td>1953.800000</td>\n      <td>235.189474</td>\n      <td>1490.694737</td>\n      <td>123.452632</td>\n      <td>532.494737</td>\n      <td>151.168421</td>\n      <td>2197.578947</td>\n      <td>385.263158</td>\n      <td>2720.484211</td>\n      <td>198.568421</td>\n      <td>2344.273684</td>\n      <td>146.221053</td>\n      <td>2580.915789</td>\n      <td>2824.242105</td>\n      <td>1353.473684</td>\n      <td>2824.242105</td>\n      <td>1353.473684</td>\n      <td>95</td>\n      <td>14.535826</td>\n      <td>8.495993</td>\n      <td>0.811404</td>\n      <td>0.950000</td>\n      <td>0.811966</td>\n      <td>-1.299994</td>\n      <td>10940.505263</td>\n      <td>11353.252632</td>\n      <td>788.294737</td>\n      <td>4166.000000</td>\n      <td>119.452632</td>\n      <td>898.242105</td>\n      <td>379.168421</td>\n      <td>823.926316</td>\n      <td>143.189474</td>\n      <td>1228.400000</td>\n      <td>149.863158</td>\n      <td>299.642105</td>\n      <td>139.421053</td>\n      <td>1299.115789</td>\n      <td>792.568421</td>\n      <td>275.410526</td>\n      <td>230.221053</td>\n      <td>1875.473684</td>\n      <td>608.410526</td>\n      <td>1953.800000</td>\n      <td>235.189474</td>\n      <td>1490.694737</td>\n      <td>123.452632</td>\n      <td>532.494737</td>\n      <td>151.168421</td>\n      <td>2197.578947</td>\n      <td>385.263158</td>\n      <td>2720.484211</td>\n      <td>198.568421</td>\n      <td>2344.273684</td>\n      <td>146.221053</td>\n      <td>2580.915789</td>\n      <td>9-2</td>\n      <td>1</td>\n      <td>N</td>\n    </tr>\n    <tr>\n      <th>3</th>\n      <td>4</td>\n      <td>10590.968254</td>\n      <td>8699.428571</td>\n      <td>714.428571</td>\n      <td>2570.920635</td>\n      <td>117.904762</td>\n      <td>926.841270</td>\n      <td>395.603175</td>\n      <td>832.333333</td>\n      <td>130.253968</td>\n      <td>1257.730159</td>\n      <td>138.920635</td>\n      <td>315.920635</td>\n      <td>150.984127</td>\n      <td>1270.555556</td>\n      <td>439.952381</td>\n      <td>238.825397</td>\n      <td>245.952381</td>\n      <td>1854.539683</td>\n      <td>622.857143</td>\n      <td>1954.857143</td>\n      <td>130.968254</td>\n      <td>1472.317460</td>\n      <td>68.984127</td>\n      <td>530.190476</td>\n      <td>143.365079</td>\n      <td>2167.571429</td>\n      <td>389.269841</td>\n      <td>2527.301587</td>\n      <td>191.000000</td>\n      <td>2328.047619</td>\n      <td>141.492063</td>\n      <td>2569.523810</td>\n      <td>2526.952381</td>\n      <td>1412.476190</td>\n      <td>2526.952381</td>\n      <td>1412.476190</td>\n      <td>63</td>\n      <td>10.227720</td>\n      <td>7.947195</td>\n      <td>0.629470</td>\n      <td>0.984375</td>\n      <td>0.700000</td>\n      <td>-1.104173</td>\n      <td>10590.968254</td>\n      <td>8699.428571</td>\n      <td>714.428571</td>\n      <td>2570.920635</td>\n      <td>117.904762</td>\n      <td>926.841270</td>\n      <td>395.603175</td>\n      <td>832.333333</td>\n      <td>130.253968</td>\n      <td>1257.730159</td>\n      <td>138.920635</td>\n      <td>315.920635</td>\n      <td>150.984127</td>\n      <td>1270.555556</td>\n      <td>439.952381</td>\n      <td>238.825397</td>\n      <td>245.952381</td>\n      <td>1854.539683</td>\n      <td>622.857143</td>\n      <td>1954.857143</td>\n      <td>130.968254</td>\n      <td>1472.317460</td>\n      <td>68.984127</td>\n      <td>530.190476</td>\n      <td>143.365079</td>\n      <td>2167.571429</td>\n      <td>389.269841</td>\n      <td>2527.301587</td>\n      <td>191.000000</td>\n      <td>2328.047619</td>\n      <td>141.492063</td>\n      <td>2569.523810</td>\n      <td>9-2</td>\n      <td>1</td>\n      <td>N</td>\n    </tr>\n    <tr>\n      <th>4</th>\n      <td>5</td>\n      <td>16300.946429</td>\n      <td>8819.517857</td>\n      <td>916.303571</td>\n      <td>2854.267857</td>\n      <td>74.678571</td>\n      <td>884.607143</td>\n      <td>391.196429</td>\n      <td>792.589286</td>\n      <td>72.625000</td>\n      <td>1246.339286</td>\n      <td>135.696429</td>\n      <td>312.910714</td>\n      <td>92.892857</td>\n      <td>1209.232143</td>\n      <td>340.321429</td>\n      <td>192.553571</td>\n      <td>160.785714</td>\n      <td>1833.714286</td>\n      <td>615.125000</td>\n      <td>1972.071429</td>\n      <td>65.250000</td>\n      <td>1450.375000</td>\n      <td>19.946429</td>\n      <td>515.517857</td>\n      <td>76.339286</td>\n      <td>2162.750000</td>\n      <td>387.678571</td>\n      <td>2485.535714</td>\n      <td>183.214286</td>\n      <td>2314.357143</td>\n      <td>140.392857</td>\n      <td>2573.964286</td>\n      <td>2395.517857</td>\n      <td>1446.660714</td>\n      <td>2395.517857</td>\n      <td>1446.660714</td>\n      <td>56</td>\n      <td>10.226592</td>\n      <td>7.141320</td>\n      <td>0.715797</td>\n      <td>0.903226</td>\n      <td>0.700000</td>\n      <td>-1.390074</td>\n      <td>16300.946429</td>\n      <td>8819.517857</td>\n      <td>916.303571</td>\n      <td>2854.267857</td>\n      <td>74.678571</td>\n      <td>884.607143</td>\n      <td>391.196429</td>\n      <td>792.589286</td>\n      <td>72.625000</td>\n      <td>1246.339286</td>\n      <td>135.696429</td>\n      <td>312.910714</td>\n      <td>92.892857</td>\n      <td>1209.232143</td>\n      <td>340.321429</td>\n      <td>192.553571</td>\n      <td>160.785714</td>\n      <td>1833.714286</td>\n      <td>615.125000</td>\n      <td>1972.071429</td>\n      <td>65.250000</td>\n      <td>1450.375000</td>\n      <td>19.946429</td>\n      <td>515.517857</td>\n      <td>76.339286</td>\n      <td>2162.750000</td>\n      <td>387.678571</td>\n      <td>2485.535714</td>\n      <td>183.214286</td>\n      <td>2314.357143</td>\n      <td>140.392857</td>\n      <td>2573.964286</td>\n      <td>9-2</td>\n      <td>1</td>\n      <td>N</td>\n    </tr>\n  </tbody>\n</table>\n</div>"
     },
     "metadata": {},
     "execution_count": 147
    }
   ],
   "source": [
    "# Load the dataset.\n",
    "p9_2_bx1_filename = \"./9_2_bx1_HMS_cycif_tumor_panel_BEMS0000342251.csv\"\n",
    "p9_2_bx1_df = load_cycif_sample(p9_2_bx1_filename, cycif_scale_func, \"9-2\", 1)\n",
    "p9_2_bx1_df.head()"
   ]
  },
  {
   "cell_type": "code",
   "execution_count": 148,
   "metadata": {},
   "outputs": [],
   "source": [
    "# Create the VAE using the approach outlined at https://keras.io/examples/generative/vae/\n",
    "\n",
    "# Create sampling layer.\n",
    "class Sampling(layers.Layer):\n",
    "    \"\"\"Uses (z_mean, z_log_var) to sample z, the vector encoding a cell.\"\"\"\n",
    "\n",
    "    def call(self, inputs):\n",
    "        z_mean, z_log_var = inputs\n",
    "        batch = tf.shape(z_mean)[0]\n",
    "        dim = tf.shape(z_mean)[1]\n",
    "        epsilon = tf.keras.backend.random_normal(shape=(batch, dim))\n",
    "        return z_mean + tf.exp(0.5 * z_log_var) * epsilon"
   ]
  },
  {
   "cell_type": "code",
   "execution_count": 149,
   "metadata": {},
   "outputs": [
    {
     "output_type": "stream",
     "name": "stdout",
     "text": [
      "Model: \"encoder\"\n__________________________________________________________________________________________________\nLayer (type)                    Output Shape         Param #     Connected to                     \n==================================================================================================\ninput_26 (InputLayer)           [(None, 21)]         0                                            \n__________________________________________________________________________________________________\ndense_51 (Dense)                (None, 21)           462         input_26[0][0]                   \n__________________________________________________________________________________________________\ndense_52 (Dense)                (None, 10)           220         dense_51[0][0]                   \n__________________________________________________________________________________________________\nz_mean (Dense)                  (None, 5)            55          dense_52[0][0]                   \n__________________________________________________________________________________________________\nz_log_var (Dense)               (None, 5)            55          dense_52[0][0]                   \n__________________________________________________________________________________________________\nsampling_12 (Sampling)          (None, 5)            0           z_mean[0][0]                     \n                                                                 z_log_var[0][0]                  \n==================================================================================================\nTotal params: 792\nTrainable params: 792\nNon-trainable params: 0\n__________________________________________________________________________________________________\n"
     ]
    }
   ],
   "source": [
    "# Build the encoder.\n",
    "\n",
    "marker_cols = p9_2_bx1_df.filter(regex=\"nucleiMasks$\").filter(regex=\"^(?!(DAPI|AF))\").columns\n",
    "p9_2_bx1_df = p9_2_bx1_df[p9_2_bx1_df.scaled == 'Y']\n",
    "markers_df = p9_2_bx1_df[marker_cols].reset_index(drop=True)\n",
    "\n",
    "latent_dim = 5\n",
    "inputs_dim = markers_df.shape[1]\n",
    "r = regularizers.l1(10e-5)\n",
    "# activation = \"relu\"\n",
    "\n",
    "encoder_inputs = keras.Input(shape=(inputs_dim,))\n",
    "x = layers.Dense(inputs_dim)(encoder_inputs)\n",
    "x = layers.Dense(inputs_dim / 2)(x)\n",
    "z_mean = layers.Dense(latent_dim, name=\"z_mean\")(x)\n",
    "z_log_var = layers.Dense(latent_dim, name=\"z_log_var\")(x)\n",
    "z = Sampling()([z_mean, z_log_var])\n",
    "encoder = keras.Model(encoder_inputs, [z_mean, z_log_var, z], name=\"encoder\")\n",
    "encoder.summary()"
   ]
  },
  {
   "cell_type": "code",
   "execution_count": 150,
   "metadata": {},
   "outputs": [
    {
     "output_type": "stream",
     "name": "stdout",
     "text": [
      "Model: \"decoder\"\n_________________________________________________________________\nLayer (type)                 Output Shape              Param #   \n=================================================================\ninput_27 (InputLayer)        [(None, 5)]               0         \n_________________________________________________________________\ndense_53 (Dense)             (None, 10)                60        \n_________________________________________________________________\ndense_54 (Dense)             (None, 21)                231       \n=================================================================\nTotal params: 291\nTrainable params: 291\nNon-trainable params: 0\n_________________________________________________________________\n"
     ]
    }
   ],
   "source": [
    "# Build the decoder.\n",
    "latent_inputs = keras.Input(shape=(latent_dim,))\n",
    "x = layers.Dense(inputs_dim / 2)(latent_inputs)\n",
    "decoder_outputs = layers.Dense(inputs_dim)(x)\n",
    "decoder = keras.Model(latent_inputs, decoder_outputs, name=\"decoder\")\n",
    "decoder.summary()"
   ]
  },
  {
   "cell_type": "code",
   "execution_count": 151,
   "metadata": {},
   "outputs": [],
   "source": [
    "# Define VAE as a Model with a custom train_step\n",
    "class VAE(keras.Model):\n",
    "    def __init__(self, encoder, decoder, **kwargs):\n",
    "        super(VAE, self).__init__(**kwargs)\n",
    "        self.encoder = encoder\n",
    "        self.decoder = decoder\n",
    "        self.total_loss_tracker = keras.metrics.Mean(name=\"total_loss\")\n",
    "        self.reconstruction_loss_tracker = keras.metrics.Mean(\n",
    "            name=\"reconstruction_loss\"\n",
    "        )\n",
    "        self.kl_loss_tracker = keras.metrics.Mean(name=\"kl_loss\")\n",
    "\n",
    "    @property\n",
    "    def metrics(self):\n",
    "        return [\n",
    "            self.total_loss_tracker,\n",
    "            self.reconstruction_loss_tracker,\n",
    "            self.kl_loss_tracker,\n",
    "        ]\n",
    "\n",
    "    def train_step(self, data):\n",
    "        with tf.GradientTape() as tape:\n",
    "            z_mean, z_log_var, z = self.encoder(data)\n",
    "            reconstruction = self.decoder(z)\n",
    "            reconstruction_loss_fn = keras.losses.MeanSquaredError()\n",
    "            reconstruction_loss = reconstruction_loss_fn(data, reconstruction)\n",
    "            kl_loss = -0.5 * (1 + z_log_var - tf.square(z_mean) - tf.exp(z_log_var))\n",
    "            kl_loss = tf.reduce_mean(tf.reduce_sum(kl_loss, axis=1))\n",
    "            total_loss = reconstruction_loss + kl_loss\n",
    "        grads = tape.gradient(total_loss, self.trainable_weights)\n",
    "        self.optimizer.apply_gradients(zip(grads, self.trainable_weights))\n",
    "        self.total_loss_tracker.update_state(total_loss)\n",
    "        self.reconstruction_loss_tracker.update_state(reconstruction_loss)\n",
    "        self.kl_loss_tracker.update_state(kl_loss)\n",
    "        return {\n",
    "            \"loss\": self.total_loss_tracker.result(),\n",
    "            \"reconstruction_loss\": self.reconstruction_loss_tracker.result(),\n",
    "            \"kl_loss\": self.kl_loss_tracker.result(),\n",
    "        }"
   ]
  },
  {
   "cell_type": "code",
   "execution_count": 152,
   "metadata": {},
   "outputs": [
    {
     "output_type": "stream",
     "name": "stdout",
     "text": [
      "Epoch 1/100\n",
      "216/216 [==============================] - 1s 927us/step - loss: 0.5617 - reconstruction_loss: 0.2067 - kl_loss: 0.0937\n",
      "Epoch 2/100\n",
      "216/216 [==============================] - 0s 930us/step - loss: 0.0675 - reconstruction_loss: 0.0426 - kl_loss: 0.0114\n",
      "Epoch 3/100\n",
      "216/216 [==============================] - 0s 926us/step - loss: 0.0361 - reconstruction_loss: 0.0290 - kl_loss: 0.0052\n",
      "Epoch 4/100\n",
      "216/216 [==============================] - 0s 1ms/step - loss: 0.0317 - reconstruction_loss: 0.0281 - kl_loss: 0.0029\n",
      "Epoch 5/100\n",
      "216/216 [==============================] - 0s 959us/step - loss: 0.0298 - reconstruction_loss: 0.0279 - kl_loss: 0.0017\n",
      "Epoch 6/100\n",
      "216/216 [==============================] - 0s 947us/step - loss: 0.0291 - reconstruction_loss: 0.0279 - kl_loss: 0.0010\n",
      "Epoch 7/100\n",
      "216/216 [==============================] - 0s 1ms/step - loss: 0.0286 - reconstruction_loss: 0.0278 - kl_loss: 6.7897e-04\n",
      "Epoch 8/100\n",
      "216/216 [==============================] - 0s 977us/step - loss: 0.0286 - reconstruction_loss: 0.0278 - kl_loss: 4.6117e-04\n",
      "Epoch 9/100\n",
      "216/216 [==============================] - 0s 1ms/step - loss: 0.0283 - reconstruction_loss: 0.0279 - kl_loss: 3.2389e-04\n",
      "Epoch 10/100\n",
      "216/216 [==============================] - 0s 1ms/step - loss: 0.0280 - reconstruction_loss: 0.0278 - kl_loss: 2.3619e-04\n",
      "Epoch 11/100\n",
      "216/216 [==============================] - 0s 1ms/step - loss: 0.0280 - reconstruction_loss: 0.0278 - kl_loss: 1.7669e-04\n",
      "Epoch 12/100\n",
      "216/216 [==============================] - 0s 1ms/step - loss: 0.0281 - reconstruction_loss: 0.0279 - kl_loss: 1.3537e-04\n",
      "Epoch 13/100\n",
      "216/216 [==============================] - 0s 933us/step - loss: 0.0278 - reconstruction_loss: 0.0279 - kl_loss: 1.0623e-04\n",
      "Epoch 14/100\n",
      "216/216 [==============================] - 0s 918us/step - loss: 0.0281 - reconstruction_loss: 0.0279 - kl_loss: 8.4281e-05\n",
      "Epoch 15/100\n",
      "216/216 [==============================] - 0s 883us/step - loss: 0.0281 - reconstruction_loss: 0.0279 - kl_loss: 6.7605e-05\n",
      "Epoch 16/100\n",
      "216/216 [==============================] - 0s 972us/step - loss: 0.0281 - reconstruction_loss: 0.0279 - kl_loss: 5.4994e-05\n",
      "Epoch 17/100\n",
      "216/216 [==============================] - 0s 951us/step - loss: 0.0277 - reconstruction_loss: 0.0278 - kl_loss: 4.5099e-05\n",
      "Epoch 18/100\n",
      "216/216 [==============================] - 0s 863us/step - loss: 0.0278 - reconstruction_loss: 0.0278 - kl_loss: 3.6956e-05\n",
      "Epoch 19/100\n",
      "216/216 [==============================] - 0s 820us/step - loss: 0.0279 - reconstruction_loss: 0.0279 - kl_loss: 3.0475e-05\n",
      "Epoch 20/100\n",
      "216/216 [==============================] - 0s 892us/step - loss: 0.0281 - reconstruction_loss: 0.0279 - kl_loss: 2.5147e-05\n",
      "Epoch 21/100\n",
      "216/216 [==============================] - 0s 931us/step - loss: 0.0279 - reconstruction_loss: 0.0279 - kl_loss: 2.0790e-05\n",
      "Epoch 22/100\n",
      "216/216 [==============================] - 0s 916us/step - loss: 0.0279 - reconstruction_loss: 0.0279 - kl_loss: 1.7261e-05\n",
      "Epoch 23/100\n",
      "216/216 [==============================] - 0s 957us/step - loss: 0.0279 - reconstruction_loss: 0.0279 - kl_loss: 1.4138e-05\n",
      "Epoch 24/100\n",
      "216/216 [==============================] - 0s 872us/step - loss: 0.0277 - reconstruction_loss: 0.0279 - kl_loss: 1.1827e-05\n",
      "Epoch 25/100\n",
      "216/216 [==============================] - 0s 829us/step - loss: 0.0279 - reconstruction_loss: 0.0279 - kl_loss: 9.9076e-06\n",
      "Epoch 26/100\n",
      "216/216 [==============================] - 0s 985us/step - loss: 0.0278 - reconstruction_loss: 0.0279 - kl_loss: 7.9782e-06\n",
      "Epoch 27/100\n",
      "216/216 [==============================] - 0s 861us/step - loss: 0.0277 - reconstruction_loss: 0.0279 - kl_loss: 6.5001e-06\n",
      "Epoch 28/100\n",
      "216/216 [==============================] - 0s 892us/step - loss: 0.0278 - reconstruction_loss: 0.0279 - kl_loss: 5.7559e-06\n",
      "Epoch 29/100\n",
      "216/216 [==============================] - 0s 868us/step - loss: 0.0278 - reconstruction_loss: 0.0280 - kl_loss: 4.9284e-06\n",
      "Epoch 30/100\n",
      "216/216 [==============================] - 0s 833us/step - loss: 0.0279 - reconstruction_loss: 0.0280 - kl_loss: 3.9961e-06\n",
      "Epoch 31/100\n",
      "216/216 [==============================] - 0s 848us/step - loss: 0.0278 - reconstruction_loss: 0.0279 - kl_loss: 3.4262e-06\n",
      "Epoch 32/100\n",
      "216/216 [==============================] - 0s 889us/step - loss: 0.0279 - reconstruction_loss: 0.0279 - kl_loss: 2.6517e-06\n",
      "Epoch 33/100\n",
      "216/216 [==============================] - 0s 968us/step - loss: 0.0279 - reconstruction_loss: 0.0279 - kl_loss: 2.3568e-06\n",
      "Epoch 34/100\n",
      "216/216 [==============================] - 0s 1ms/step - loss: 0.0277 - reconstruction_loss: 0.0279 - kl_loss: 2.7418e-06\n",
      "Epoch 35/100\n",
      "216/216 [==============================] - 0s 1ms/step - loss: 0.0278 - reconstruction_loss: 0.0278 - kl_loss: 6.2185e-06\n",
      "Epoch 36/100\n",
      "216/216 [==============================] - 0s 1ms/step - loss: 0.0280 - reconstruction_loss: 0.0279 - kl_loss: 1.6808e-06\n",
      "Epoch 37/100\n",
      "216/216 [==============================] - 0s 1ms/step - loss: 0.0278 - reconstruction_loss: 0.0279 - kl_loss: 2.5190e-06\n",
      "Epoch 38/100\n",
      "216/216 [==============================] - 0s 1ms/step - loss: 0.0278 - reconstruction_loss: 0.0279 - kl_loss: 5.3905e-06\n",
      "Epoch 39/100\n",
      "216/216 [==============================] - 0s 986us/step - loss: 0.0279 - reconstruction_loss: 0.0279 - kl_loss: 2.8662e-06\n",
      "Epoch 40/100\n",
      "216/216 [==============================] - 0s 1ms/step - loss: 0.0278 - reconstruction_loss: 0.0279 - kl_loss: 2.8979e-06\n",
      "Epoch 41/100\n",
      "216/216 [==============================] - 0s 1ms/step - loss: 0.0279 - reconstruction_loss: 0.0280 - kl_loss: 3.9508e-06\n",
      "Epoch 42/100\n",
      "216/216 [==============================] - 0s 1ms/step - loss: 0.0280 - reconstruction_loss: 0.0279 - kl_loss: 4.1830e-06\n",
      "Epoch 43/100\n",
      "216/216 [==============================] - 0s 940us/step - loss: 0.0281 - reconstruction_loss: 0.0279 - kl_loss: 5.9006e-06\n",
      "Epoch 44/100\n",
      "216/216 [==============================] - 0s 987us/step - loss: 0.0279 - reconstruction_loss: 0.0279 - kl_loss: 1.0184e-06\n",
      "Epoch 45/100\n",
      "216/216 [==============================] - 0s 1ms/step - loss: 0.0281 - reconstruction_loss: 0.0280 - kl_loss: 4.8257e-06\n",
      "Epoch 46/100\n",
      "216/216 [==============================] - 0s 991us/step - loss: 0.0280 - reconstruction_loss: 0.0279 - kl_loss: 2.9181e-06\n",
      "Epoch 47/100\n",
      "216/216 [==============================] - 0s 992us/step - loss: 0.0278 - reconstruction_loss: 0.0279 - kl_loss: 3.9605e-06\n",
      "Epoch 48/100\n",
      "216/216 [==============================] - 0s 1ms/step - loss: 0.0279 - reconstruction_loss: 0.0280 - kl_loss: 5.2668e-06\n",
      "Epoch 49/100\n",
      "216/216 [==============================] - 0s 1ms/step - loss: 0.0278 - reconstruction_loss: 0.0279 - kl_loss: 1.9944e-06\n",
      "Epoch 50/100\n",
      "216/216 [==============================] - 0s 1ms/step - loss: 0.0278 - reconstruction_loss: 0.0279 - kl_loss: 3.7809e-06\n",
      "Epoch 51/100\n",
      "216/216 [==============================] - 0s 1ms/step - loss: 0.0279 - reconstruction_loss: 0.0279 - kl_loss: 3.8091e-06\n",
      "Epoch 52/100\n",
      "216/216 [==============================] - 0s 1ms/step - loss: 0.0279 - reconstruction_loss: 0.0279 - kl_loss: 4.5256e-06\n",
      "Epoch 53/100\n",
      "216/216 [==============================] - 0s 1ms/step - loss: 0.0278 - reconstruction_loss: 0.0279 - kl_loss: 3.1887e-06\n",
      "Epoch 54/100\n",
      "216/216 [==============================] - 0s 1ms/step - loss: 0.0278 - reconstruction_loss: 0.0279 - kl_loss: 5.0027e-06\n",
      "Epoch 55/100\n",
      "216/216 [==============================] - 0s 955us/step - loss: 0.0278 - reconstruction_loss: 0.0278 - kl_loss: 1.8036e-06\n",
      "Epoch 56/100\n",
      "216/216 [==============================] - 0s 948us/step - loss: 0.0279 - reconstruction_loss: 0.0279 - kl_loss: 3.1959e-06\n",
      "Epoch 57/100\n",
      "216/216 [==============================] - 0s 1ms/step - loss: 0.0279 - reconstruction_loss: 0.0279 - kl_loss: 3.0960e-06\n",
      "Epoch 58/100\n",
      "216/216 [==============================] - 0s 903us/step - loss: 0.0279 - reconstruction_loss: 0.0279 - kl_loss: 3.7831e-06\n",
      "Epoch 59/100\n",
      "216/216 [==============================] - 0s 890us/step - loss: 0.0280 - reconstruction_loss: 0.0279 - kl_loss: 3.5679e-06\n",
      "Epoch 60/100\n",
      "216/216 [==============================] - 0s 937us/step - loss: 0.0278 - reconstruction_loss: 0.0279 - kl_loss: 2.2520e-06\n",
      "Epoch 61/100\n",
      "216/216 [==============================] - 0s 925us/step - loss: 0.0279 - reconstruction_loss: 0.0279 - kl_loss: 5.2281e-06\n",
      "Epoch 62/100\n",
      "216/216 [==============================] - 0s 1ms/step - loss: 0.0279 - reconstruction_loss: 0.0279 - kl_loss: 1.0409e-06\n",
      "Epoch 63/100\n",
      "216/216 [==============================] - 0s 1ms/step - loss: 0.0278 - reconstruction_loss: 0.0279 - kl_loss: 6.4947e-06\n",
      "Epoch 64/100\n",
      "216/216 [==============================] - 0s 1ms/step - loss: 0.0280 - reconstruction_loss: 0.0278 - kl_loss: 1.4242e-06\n",
      "Epoch 65/100\n",
      "216/216 [==============================] - 0s 989us/step - loss: 0.0278 - reconstruction_loss: 0.0279 - kl_loss: 2.6679e-06\n",
      "Epoch 66/100\n",
      "216/216 [==============================] - 0s 1ms/step - loss: 0.0279 - reconstruction_loss: 0.0279 - kl_loss: 3.3334e-06\n",
      "Epoch 67/100\n",
      "216/216 [==============================] - 0s 1ms/step - loss: 0.0281 - reconstruction_loss: 0.0279 - kl_loss: 2.9292e-06\n",
      "Epoch 68/100\n",
      "216/216 [==============================] - 0s 1ms/step - loss: 0.0278 - reconstruction_loss: 0.0278 - kl_loss: 3.5699e-06\n",
      "Epoch 69/100\n",
      "216/216 [==============================] - 0s 1ms/step - loss: 0.0277 - reconstruction_loss: 0.0279 - kl_loss: 3.2045e-06\n",
      "Epoch 70/100\n",
      "216/216 [==============================] - 0s 954us/step - loss: 0.0278 - reconstruction_loss: 0.0279 - kl_loss: 2.2870e-06\n",
      "Epoch 71/100\n",
      "216/216 [==============================] - 0s 1ms/step - loss: 0.0280 - reconstruction_loss: 0.0279 - kl_loss: 2.9438e-06\n",
      "Epoch 72/100\n",
      "216/216 [==============================] - 0s 1ms/step - loss: 0.0279 - reconstruction_loss: 0.0279 - kl_loss: 3.0917e-06\n",
      "Epoch 73/100\n",
      "216/216 [==============================] - 0s 1ms/step - loss: 0.0278 - reconstruction_loss: 0.0279 - kl_loss: 3.7528e-06\n",
      "Epoch 74/100\n",
      "216/216 [==============================] - 0s 1ms/step - loss: 0.0280 - reconstruction_loss: 0.0279 - kl_loss: 2.4967e-06\n",
      "Epoch 75/100\n",
      "216/216 [==============================] - 0s 1ms/step - loss: 0.0275 - reconstruction_loss: 0.0279 - kl_loss: 3.2550e-06\n",
      "Epoch 76/100\n",
      "216/216 [==============================] - 0s 1ms/step - loss: 0.0279 - reconstruction_loss: 0.0279 - kl_loss: 2.5960e-06\n",
      "Epoch 77/100\n",
      "216/216 [==============================] - 0s 1ms/step - loss: 0.0280 - reconstruction_loss: 0.0279 - kl_loss: 4.4264e-06\n",
      "Epoch 78/100\n",
      "216/216 [==============================] - 0s 1ms/step - loss: 0.0279 - reconstruction_loss: 0.0279 - kl_loss: 9.1819e-07\n",
      "Epoch 79/100\n",
      "216/216 [==============================] - 0s 1ms/step - loss: 0.0279 - reconstruction_loss: 0.0279 - kl_loss: 3.2038e-06\n",
      "Epoch 80/100\n",
      "216/216 [==============================] - 0s 1ms/step - loss: 0.0279 - reconstruction_loss: 0.0279 - kl_loss: 2.5275e-06\n",
      "Epoch 81/100\n",
      "216/216 [==============================] - 0s 1ms/step - loss: 0.0279 - reconstruction_loss: 0.0279 - kl_loss: 2.5010e-06\n",
      "Epoch 82/100\n",
      "216/216 [==============================] - 0s 1ms/step - loss: 0.0280 - reconstruction_loss: 0.0279 - kl_loss: 3.0082e-06\n",
      "Epoch 83/100\n",
      "216/216 [==============================] - 0s 981us/step - loss: 0.0278 - reconstruction_loss: 0.0278 - kl_loss: 3.0681e-06\n",
      "Epoch 84/100\n",
      "216/216 [==============================] - 0s 1ms/step - loss: 0.0278 - reconstruction_loss: 0.0279 - kl_loss: 2.3918e-06\n",
      "Epoch 85/100\n",
      "216/216 [==============================] - 0s 1ms/step - loss: 0.0280 - reconstruction_loss: 0.0278 - kl_loss: 3.0459e-06\n",
      "Epoch 86/100\n",
      "216/216 [==============================] - 0s 1ms/step - loss: 0.0279 - reconstruction_loss: 0.0279 - kl_loss: 2.0494e-06\n",
      "Epoch 87/100\n",
      "216/216 [==============================] - 0s 1ms/step - loss: 0.0279 - reconstruction_loss: 0.0279 - kl_loss: 2.7365e-06\n",
      "Epoch 88/100\n",
      "216/216 [==============================] - 0s 974us/step - loss: 0.0279 - reconstruction_loss: 0.0279 - kl_loss: 2.8363e-06\n",
      "Epoch 89/100\n",
      "216/216 [==============================] - 0s 1ms/step - loss: 0.0281 - reconstruction_loss: 0.0278 - kl_loss: 2.8586e-06\n",
      "Epoch 90/100\n",
      "216/216 [==============================] - 0s 1ms/step - loss: 0.0278 - reconstruction_loss: 0.0279 - kl_loss: 4.2253e-06\n",
      "Epoch 91/100\n",
      "216/216 [==============================] - 0s 963us/step - loss: 0.0279 - reconstruction_loss: 0.0279 - kl_loss: 1.1371e-06\n",
      "Epoch 92/100\n",
      "216/216 [==============================] - 0s 924us/step - loss: 0.0279 - reconstruction_loss: 0.0279 - kl_loss: 2.1955e-06\n",
      "Epoch 93/100\n",
      "216/216 [==============================] - 0s 847us/step - loss: 0.0280 - reconstruction_loss: 0.0279 - kl_loss: 2.7512e-06\n",
      "Epoch 94/100\n",
      "216/216 [==============================] - 0s 836us/step - loss: 0.0279 - reconstruction_loss: 0.0279 - kl_loss: 2.7497e-06\n",
      "Epoch 95/100\n",
      "216/216 [==============================] - 0s 898us/step - loss: 0.0280 - reconstruction_loss: 0.0279 - kl_loss: 2.0550e-06\n",
      "Epoch 96/100\n",
      "216/216 [==============================] - 0s 950us/step - loss: 0.0279 - reconstruction_loss: 0.0279 - kl_loss: 3.9219e-06\n",
      "Epoch 97/100\n",
      "216/216 [==============================] - 0s 922us/step - loss: 0.0279 - reconstruction_loss: 0.0279 - kl_loss: 1.2405e-06\n",
      "Epoch 98/100\n",
      "216/216 [==============================] - 0s 921us/step - loss: 0.0280 - reconstruction_loss: 0.0279 - kl_loss: 2.7418e-06\n",
      "Epoch 99/100\n",
      "216/216 [==============================] - 0s 973us/step - loss: 0.0277 - reconstruction_loss: 0.0279 - kl_loss: 2.4853e-06\n",
      "Epoch 100/100\n",
      "216/216 [==============================] - 0s 1ms/step - loss: 0.0278 - reconstruction_loss: 0.0278 - kl_loss: 2.0641e-06\n"
     ]
    }
   ],
   "source": [
    "# Create the VAR, compile, and run.\n",
    "vae = VAE(encoder, decoder)\n",
    "vae.compile(optimizer=keras.optimizers.Adam())\n",
    "history = vae.fit(markers_df.to_numpy(), epochs=100, batch_size=128)"
   ]
  },
  {
   "cell_type": "code",
   "execution_count": 153,
   "metadata": {},
   "outputs": [
    {
     "output_type": "display_data",
     "data": {
      "application/vnd.plotly.v1+json": {
       "config": {
        "plotlyServerURL": "https://plot.ly"
       },
       "data": [
        {
         "hovertemplate": "variable=loss<br>index=%{x}<br>value=%{y}<extra></extra>",
         "legendgroup": "loss",
         "line": {
          "color": "#636efa",
          "dash": "solid"
         },
         "mode": "lines",
         "name": "loss",
         "orientation": "v",
         "showlegend": true,
         "type": "scatter",
         "x": [
          0,
          1,
          2,
          3,
          4,
          5,
          6,
          7,
          8,
          9,
          10,
          11,
          12,
          13,
          14,
          15,
          16,
          17,
          18,
          19,
          20,
          21,
          22,
          23,
          24,
          25,
          26,
          27,
          28,
          29,
          30,
          31,
          32,
          33,
          34,
          35,
          36,
          37,
          38,
          39,
          40,
          41,
          42,
          43,
          44,
          45,
          46,
          47,
          48,
          49,
          50,
          51,
          52,
          53,
          54,
          55,
          56,
          57,
          58,
          59,
          60,
          61,
          62,
          63,
          64,
          65,
          66,
          67,
          68,
          69,
          70,
          71,
          72,
          73,
          74,
          75,
          76,
          77,
          78,
          79,
          80,
          81,
          82,
          83,
          84,
          85,
          86,
          87,
          88,
          89,
          90,
          91,
          92,
          93,
          94,
          95,
          96,
          97,
          98,
          99
         ],
         "xaxis": "x",
         "y": [
          0.3004160225391388,
          0.05404657498002052,
          0.03425993397831917,
          0.030934156849980354,
          0.029596516862511635,
          0.028906676918268204,
          0.028511222451925278,
          0.028281820937991142,
          0.028218893334269524,
          0.028072180226445198,
          0.02799851819872856,
          0.028045175597071648,
          0.027974912896752357,
          0.02794777601957321,
          0.027938367798924446,
          0.027929948642849922,
          0.027882060036063194,
          0.027869846671819687,
          0.027898065745830536,
          0.02796625904738903,
          0.02791464701294899,
          0.02788134105503559,
          0.027886271476745605,
          0.02788226492702961,
          0.027873052284121513,
          0.0279350858181715,
          0.027929509058594704,
          0.02792074903845787,
          0.027996035292744637,
          0.02798924408853054,
          0.02788412943482399,
          0.027854356914758682,
          0.027868803590536118,
          0.02789268270134926,
          0.02785572223365307,
          0.02786755934357643,
          0.02785409800708294,
          0.02785797417163849,
          0.027892274782061577,
          0.02787794917821884,
          0.02796517312526703,
          0.027934370562434196,
          0.027926219627261162,
          0.027860518544912338,
          0.02796376682817936,
          0.027901366353034973,
          0.027924414724111557,
          0.027957236394286156,
          0.02788960561156273,
          0.02787224017083645,
          0.02790350839495659,
          0.02786472998559475,
          0.027913443744182587,
          0.02787494659423828,
          0.027847005054354668,
          0.027943981811404228,
          0.027880020439624786,
          0.027896545827388763,
          0.02792919985949993,
          0.027856087312102318,
          0.0279350895434618,
          0.027923230081796646,
          0.027862999588251114,
          0.027844736352562904,
          0.027888644486665726,
          0.027900181710720062,
          0.027904430404305458,
          0.02784760296344757,
          0.027856767177581787,
          0.027882888913154602,
          0.027883945032954216,
          0.02794261835515499,
          0.02789798192679882,
          0.027859149500727654,
          0.0278620608150959,
          0.027919061481952667,
          0.027872275561094284,
          0.02790926955640316,
          0.02786255069077015,
          0.027927160263061523,
          0.027873950079083443,
          0.027895042672753334,
          0.02784971334040165,
          0.027875076979398727,
          0.027851810678839684,
          0.02791225165128708,
          0.027876190841197968,
          0.027945687994360924,
          0.027852166444063187,
          0.027880515903234482,
          0.027901576831936836,
          0.02790389209985733,
          0.027889028191566467,
          0.027940701693296432,
          0.027878424152731895,
          0.027873579412698746,
          0.027893709018826485,
          0.02789398841559887,
          0.02791271172463894,
          0.027844419702887535
         ],
         "yaxis": "y"
        },
        {
         "hovertemplate": "variable=reconstruction_loss<br>index=%{x}<br>value=%{y}<extra></extra>",
         "legendgroup": "reconstruction_loss",
         "line": {
          "color": "#EF553B",
          "dash": "solid"
         },
         "mode": "lines",
         "name": "reconstruction_loss",
         "orientation": "v",
         "showlegend": true,
         "type": "scatter",
         "x": [
          0,
          1,
          2,
          3,
          4,
          5,
          6,
          7,
          8,
          9,
          10,
          11,
          12,
          13,
          14,
          15,
          16,
          17,
          18,
          19,
          20,
          21,
          22,
          23,
          24,
          25,
          26,
          27,
          28,
          29,
          30,
          31,
          32,
          33,
          34,
          35,
          36,
          37,
          38,
          39,
          40,
          41,
          42,
          43,
          44,
          45,
          46,
          47,
          48,
          49,
          50,
          51,
          52,
          53,
          54,
          55,
          56,
          57,
          58,
          59,
          60,
          61,
          62,
          63,
          64,
          65,
          66,
          67,
          68,
          69,
          70,
          71,
          72,
          73,
          74,
          75,
          76,
          77,
          78,
          79,
          80,
          81,
          82,
          83,
          84,
          85,
          86,
          87,
          88,
          89,
          90,
          91,
          92,
          93,
          94,
          95,
          96,
          97,
          98,
          99
         ],
         "xaxis": "x",
         "y": [
          0.20666682720184326,
          0.04263008013367653,
          0.029018845409154892,
          0.028065277263522148,
          0.02791488543152809,
          0.027863506227731705,
          0.027832234278321266,
          0.0278206504881382,
          0.0278950072824955,
          0.027835989370942116,
          0.027821823954582214,
          0.02790980413556099,
          0.027868691831827164,
          0.0278635136783123,
          0.027870777994394302,
          0.027874963358044624,
          0.027836963534355164,
          0.02783288061618805,
          0.02786758355796337,
          0.027941100299358368,
          0.027893858030438423,
          0.027864089235663414,
          0.02787214331328869,
          0.0278704185038805,
          0.027863143011927605,
          0.027927109971642494,
          0.02792300470173359,
          0.02791498973965645,
          0.027991095557808876,
          0.027985259890556335,
          0.027880707755684853,
          0.02785170078277588,
          0.027866436168551445,
          0.027889935299754143,
          0.027849512174725533,
          0.027865877375006676,
          0.027851568534970284,
          0.027852578088641167,
          0.027889396995306015,
          0.02787506766617298,
          0.027961229905486107,
          0.027930177748203278,
          0.027920305728912354,
          0.027859507128596306,
          0.027958938851952553,
          0.027898456901311874,
          0.02792046032845974,
          0.027951987460255623,
          0.027887608855962753,
          0.02786846086382866,
          0.02789969928562641,
          0.027860192582011223,
          0.02791026420891285,
          0.027869949117302895,
          0.027845187112689018,
          0.027940772473812103,
          0.02787691168487072,
          0.027892764657735825,
          0.027925627306103706,
          0.0278538316488266,
          0.02792985737323761,
          0.02792217768728733,
          0.02785649709403515,
          0.027843300253152847,
          0.02788596972823143,
          0.02789684571325779,
          0.027901479974389076,
          0.02784404717385769,
          0.027853550389409065,
          0.027880612760782242,
          0.027880990877747536,
          0.027939531952142715,
          0.02789423055946827,
          0.027856649830937386,
          0.0278587955981493,
          0.027916457504034042,
          0.02786784991621971,
          0.027908364310860634,
          0.027859356254339218,
          0.027924641966819763,
          0.027871442958712578,
          0.02789202518761158,
          0.027846647426486015,
          0.02787267230451107,
          0.027848782017827034,
          0.027910197153687477,
          0.027873452752828598,
          0.02794283628463745,
          0.027849307283759117,
          0.02787628024816513,
          0.027900444343686104,
          0.027901705354452133,
          0.02788628078997135,
          0.027937965467572212,
          0.027876367792487144,
          0.02786966599524021,
          0.027892468497157097,
          0.027891241014003754,
          0.02791021764278412,
          0.027842363342642784
         ],
         "yaxis": "y"
        },
        {
         "hovertemplate": "variable=kl_loss<br>index=%{x}<br>value=%{y}<extra></extra>",
         "legendgroup": "kl_loss",
         "line": {
          "color": "#00cc96",
          "dash": "solid"
         },
         "mode": "lines",
         "name": "kl_loss",
         "orientation": "v",
         "showlegend": true,
         "type": "scatter",
         "x": [
          0,
          1,
          2,
          3,
          4,
          5,
          6,
          7,
          8,
          9,
          10,
          11,
          12,
          13,
          14,
          15,
          16,
          17,
          18,
          19,
          20,
          21,
          22,
          23,
          24,
          25,
          26,
          27,
          28,
          29,
          30,
          31,
          32,
          33,
          34,
          35,
          36,
          37,
          38,
          39,
          40,
          41,
          42,
          43,
          44,
          45,
          46,
          47,
          48,
          49,
          50,
          51,
          52,
          53,
          54,
          55,
          56,
          57,
          58,
          59,
          60,
          61,
          62,
          63,
          64,
          65,
          66,
          67,
          68,
          69,
          70,
          71,
          72,
          73,
          74,
          75,
          76,
          77,
          78,
          79,
          80,
          81,
          82,
          83,
          84,
          85,
          86,
          87,
          88,
          89,
          90,
          91,
          92,
          93,
          94,
          95,
          96,
          97,
          98,
          99
         ],
         "xaxis": "x",
         "y": [
          0.09374920278787613,
          0.011416489258408546,
          0.005241084843873978,
          0.0028688760939985514,
          0.0016816245624795556,
          0.0010431574191898108,
          0.0006789672770537436,
          0.0004611701297108084,
          0.00032389481202699244,
          0.00023619244166184217,
          0.00017668856889940798,
          0.0001353663537884131,
          0.00010622694389894605,
          0.00008428109140368178,
          0.00006760489486623555,
          0.00005499369581229985,
          0.00004509866630542092,
          0.000036955872928956524,
          0.000030475444873445667,
          0.000025147184715024196,
          0.00002079003934341017,
          0.000017260816093767062,
          0.000014138327969703823,
          0.000011827395610453095,
          0.000009907611456583254,
          0.000007978153917065356,
          0.0000065000649556168355,
          0.000005755907750426559,
          0.000004928438556817127,
          0.000003996134182671085,
          0.000003426187277000281,
          0.000002651721842994448,
          0.000002356780214540777,
          0.00000274184003501432,
          0.0000062184872149373405,
          0.0000016808110103738727,
          0.0000025189799544023117,
          0.000005390484147937968,
          0.0000028661906981142238,
          0.0000028978636237297906,
          0.000003950825430365512,
          0.000004182968950772192,
          0.0000059005692492064554,
          0.0000010184295433646184,
          0.000004825671112484997,
          0.000002918113068517414,
          0.000003960462890972849,
          0.000005266845164442202,
          0.000001994382955672336,
          0.000003780854285651003,
          0.0000038091357055236585,
          0.000004525608801486669,
          0.0000031887104796624044,
          0.0000050027128963847645,
          0.0000018036056417258806,
          0.0000031958804811438313,
          0.0000030959743071434787,
          0.000003783124839173979,
          0.0000035678904168889858,
          0.0000022519695903611137,
          0.000005228085228736745,
          0.0000010408946309325984,
          0.0000064947180362651125,
          0.0000014242098131944658,
          0.0000026678710582928034,
          0.000003333446329634171,
          0.0000029291784358065343,
          0.0000035699079035111936,
          0.000003204456561434199,
          0.0000022870178781886352,
          0.0000029438301680784207,
          0.0000030916580726625398,
          0.0000037528279790421948,
          0.000002496696424714173,
          0.0000032549653496971587,
          0.0000025960162020055577,
          0.000004426353825692786,
          9.181923132928205e-7,
          0.000003203802407369949,
          0.0000025275192001572577,
          0.0000025009574073919794,
          0.0000030081801014603116,
          0.0000030681378575536655,
          0.0000023917507405712968,
          0.0000030459068511845544,
          0.0000020494467207754496,
          0.000002736498800004483,
          0.000002836264911820763,
          0.0000028585511699930066,
          0.000004225348220643355,
          0.0000011371494110790081,
          0.0000021955124793748837,
          0.000002751190777416923,
          0.000002749712848526542,
          0.0000020550044155243086,
          0.000003921862571587553,
          0.0000012404602784954477,
          0.000002741826165220118,
          0.0000024852749902493088,
          0.0000020641032278945204
         ],
         "yaxis": "y"
        }
       ],
       "layout": {
        "legend": {
         "title": {
          "text": "variable"
         },
         "tracegroupgap": 0
        },
        "margin": {
         "t": 60
        },
        "template": {
         "data": {
          "bar": [
           {
            "error_x": {
             "color": "#2a3f5f"
            },
            "error_y": {
             "color": "#2a3f5f"
            },
            "marker": {
             "line": {
              "color": "#E5ECF6",
              "width": 0.5
             }
            },
            "type": "bar"
           }
          ],
          "barpolar": [
           {
            "marker": {
             "line": {
              "color": "#E5ECF6",
              "width": 0.5
             }
            },
            "type": "barpolar"
           }
          ],
          "carpet": [
           {
            "aaxis": {
             "endlinecolor": "#2a3f5f",
             "gridcolor": "white",
             "linecolor": "white",
             "minorgridcolor": "white",
             "startlinecolor": "#2a3f5f"
            },
            "baxis": {
             "endlinecolor": "#2a3f5f",
             "gridcolor": "white",
             "linecolor": "white",
             "minorgridcolor": "white",
             "startlinecolor": "#2a3f5f"
            },
            "type": "carpet"
           }
          ],
          "choropleth": [
           {
            "colorbar": {
             "outlinewidth": 0,
             "ticks": ""
            },
            "type": "choropleth"
           }
          ],
          "contour": [
           {
            "colorbar": {
             "outlinewidth": 0,
             "ticks": ""
            },
            "colorscale": [
             [
              0,
              "#0d0887"
             ],
             [
              0.1111111111111111,
              "#46039f"
             ],
             [
              0.2222222222222222,
              "#7201a8"
             ],
             [
              0.3333333333333333,
              "#9c179e"
             ],
             [
              0.4444444444444444,
              "#bd3786"
             ],
             [
              0.5555555555555556,
              "#d8576b"
             ],
             [
              0.6666666666666666,
              "#ed7953"
             ],
             [
              0.7777777777777778,
              "#fb9f3a"
             ],
             [
              0.8888888888888888,
              "#fdca26"
             ],
             [
              1,
              "#f0f921"
             ]
            ],
            "type": "contour"
           }
          ],
          "contourcarpet": [
           {
            "colorbar": {
             "outlinewidth": 0,
             "ticks": ""
            },
            "type": "contourcarpet"
           }
          ],
          "heatmap": [
           {
            "colorbar": {
             "outlinewidth": 0,
             "ticks": ""
            },
            "colorscale": [
             [
              0,
              "#0d0887"
             ],
             [
              0.1111111111111111,
              "#46039f"
             ],
             [
              0.2222222222222222,
              "#7201a8"
             ],
             [
              0.3333333333333333,
              "#9c179e"
             ],
             [
              0.4444444444444444,
              "#bd3786"
             ],
             [
              0.5555555555555556,
              "#d8576b"
             ],
             [
              0.6666666666666666,
              "#ed7953"
             ],
             [
              0.7777777777777778,
              "#fb9f3a"
             ],
             [
              0.8888888888888888,
              "#fdca26"
             ],
             [
              1,
              "#f0f921"
             ]
            ],
            "type": "heatmap"
           }
          ],
          "heatmapgl": [
           {
            "colorbar": {
             "outlinewidth": 0,
             "ticks": ""
            },
            "colorscale": [
             [
              0,
              "#0d0887"
             ],
             [
              0.1111111111111111,
              "#46039f"
             ],
             [
              0.2222222222222222,
              "#7201a8"
             ],
             [
              0.3333333333333333,
              "#9c179e"
             ],
             [
              0.4444444444444444,
              "#bd3786"
             ],
             [
              0.5555555555555556,
              "#d8576b"
             ],
             [
              0.6666666666666666,
              "#ed7953"
             ],
             [
              0.7777777777777778,
              "#fb9f3a"
             ],
             [
              0.8888888888888888,
              "#fdca26"
             ],
             [
              1,
              "#f0f921"
             ]
            ],
            "type": "heatmapgl"
           }
          ],
          "histogram": [
           {
            "marker": {
             "colorbar": {
              "outlinewidth": 0,
              "ticks": ""
             }
            },
            "type": "histogram"
           }
          ],
          "histogram2d": [
           {
            "colorbar": {
             "outlinewidth": 0,
             "ticks": ""
            },
            "colorscale": [
             [
              0,
              "#0d0887"
             ],
             [
              0.1111111111111111,
              "#46039f"
             ],
             [
              0.2222222222222222,
              "#7201a8"
             ],
             [
              0.3333333333333333,
              "#9c179e"
             ],
             [
              0.4444444444444444,
              "#bd3786"
             ],
             [
              0.5555555555555556,
              "#d8576b"
             ],
             [
              0.6666666666666666,
              "#ed7953"
             ],
             [
              0.7777777777777778,
              "#fb9f3a"
             ],
             [
              0.8888888888888888,
              "#fdca26"
             ],
             [
              1,
              "#f0f921"
             ]
            ],
            "type": "histogram2d"
           }
          ],
          "histogram2dcontour": [
           {
            "colorbar": {
             "outlinewidth": 0,
             "ticks": ""
            },
            "colorscale": [
             [
              0,
              "#0d0887"
             ],
             [
              0.1111111111111111,
              "#46039f"
             ],
             [
              0.2222222222222222,
              "#7201a8"
             ],
             [
              0.3333333333333333,
              "#9c179e"
             ],
             [
              0.4444444444444444,
              "#bd3786"
             ],
             [
              0.5555555555555556,
              "#d8576b"
             ],
             [
              0.6666666666666666,
              "#ed7953"
             ],
             [
              0.7777777777777778,
              "#fb9f3a"
             ],
             [
              0.8888888888888888,
              "#fdca26"
             ],
             [
              1,
              "#f0f921"
             ]
            ],
            "type": "histogram2dcontour"
           }
          ],
          "mesh3d": [
           {
            "colorbar": {
             "outlinewidth": 0,
             "ticks": ""
            },
            "type": "mesh3d"
           }
          ],
          "parcoords": [
           {
            "line": {
             "colorbar": {
              "outlinewidth": 0,
              "ticks": ""
             }
            },
            "type": "parcoords"
           }
          ],
          "pie": [
           {
            "automargin": true,
            "type": "pie"
           }
          ],
          "scatter": [
           {
            "marker": {
             "colorbar": {
              "outlinewidth": 0,
              "ticks": ""
             }
            },
            "type": "scatter"
           }
          ],
          "scatter3d": [
           {
            "line": {
             "colorbar": {
              "outlinewidth": 0,
              "ticks": ""
             }
            },
            "marker": {
             "colorbar": {
              "outlinewidth": 0,
              "ticks": ""
             }
            },
            "type": "scatter3d"
           }
          ],
          "scattercarpet": [
           {
            "marker": {
             "colorbar": {
              "outlinewidth": 0,
              "ticks": ""
             }
            },
            "type": "scattercarpet"
           }
          ],
          "scattergeo": [
           {
            "marker": {
             "colorbar": {
              "outlinewidth": 0,
              "ticks": ""
             }
            },
            "type": "scattergeo"
           }
          ],
          "scattergl": [
           {
            "marker": {
             "colorbar": {
              "outlinewidth": 0,
              "ticks": ""
             }
            },
            "type": "scattergl"
           }
          ],
          "scattermapbox": [
           {
            "marker": {
             "colorbar": {
              "outlinewidth": 0,
              "ticks": ""
             }
            },
            "type": "scattermapbox"
           }
          ],
          "scatterpolar": [
           {
            "marker": {
             "colorbar": {
              "outlinewidth": 0,
              "ticks": ""
             }
            },
            "type": "scatterpolar"
           }
          ],
          "scatterpolargl": [
           {
            "marker": {
             "colorbar": {
              "outlinewidth": 0,
              "ticks": ""
             }
            },
            "type": "scatterpolargl"
           }
          ],
          "scatterternary": [
           {
            "marker": {
             "colorbar": {
              "outlinewidth": 0,
              "ticks": ""
             }
            },
            "type": "scatterternary"
           }
          ],
          "surface": [
           {
            "colorbar": {
             "outlinewidth": 0,
             "ticks": ""
            },
            "colorscale": [
             [
              0,
              "#0d0887"
             ],
             [
              0.1111111111111111,
              "#46039f"
             ],
             [
              0.2222222222222222,
              "#7201a8"
             ],
             [
              0.3333333333333333,
              "#9c179e"
             ],
             [
              0.4444444444444444,
              "#bd3786"
             ],
             [
              0.5555555555555556,
              "#d8576b"
             ],
             [
              0.6666666666666666,
              "#ed7953"
             ],
             [
              0.7777777777777778,
              "#fb9f3a"
             ],
             [
              0.8888888888888888,
              "#fdca26"
             ],
             [
              1,
              "#f0f921"
             ]
            ],
            "type": "surface"
           }
          ],
          "table": [
           {
            "cells": {
             "fill": {
              "color": "#EBF0F8"
             },
             "line": {
              "color": "white"
             }
            },
            "header": {
             "fill": {
              "color": "#C8D4E3"
             },
             "line": {
              "color": "white"
             }
            },
            "type": "table"
           }
          ]
         },
         "layout": {
          "annotationdefaults": {
           "arrowcolor": "#2a3f5f",
           "arrowhead": 0,
           "arrowwidth": 1
          },
          "autotypenumbers": "strict",
          "coloraxis": {
           "colorbar": {
            "outlinewidth": 0,
            "ticks": ""
           }
          },
          "colorscale": {
           "diverging": [
            [
             0,
             "#8e0152"
            ],
            [
             0.1,
             "#c51b7d"
            ],
            [
             0.2,
             "#de77ae"
            ],
            [
             0.3,
             "#f1b6da"
            ],
            [
             0.4,
             "#fde0ef"
            ],
            [
             0.5,
             "#f7f7f7"
            ],
            [
             0.6,
             "#e6f5d0"
            ],
            [
             0.7,
             "#b8e186"
            ],
            [
             0.8,
             "#7fbc41"
            ],
            [
             0.9,
             "#4d9221"
            ],
            [
             1,
             "#276419"
            ]
           ],
           "sequential": [
            [
             0,
             "#0d0887"
            ],
            [
             0.1111111111111111,
             "#46039f"
            ],
            [
             0.2222222222222222,
             "#7201a8"
            ],
            [
             0.3333333333333333,
             "#9c179e"
            ],
            [
             0.4444444444444444,
             "#bd3786"
            ],
            [
             0.5555555555555556,
             "#d8576b"
            ],
            [
             0.6666666666666666,
             "#ed7953"
            ],
            [
             0.7777777777777778,
             "#fb9f3a"
            ],
            [
             0.8888888888888888,
             "#fdca26"
            ],
            [
             1,
             "#f0f921"
            ]
           ],
           "sequentialminus": [
            [
             0,
             "#0d0887"
            ],
            [
             0.1111111111111111,
             "#46039f"
            ],
            [
             0.2222222222222222,
             "#7201a8"
            ],
            [
             0.3333333333333333,
             "#9c179e"
            ],
            [
             0.4444444444444444,
             "#bd3786"
            ],
            [
             0.5555555555555556,
             "#d8576b"
            ],
            [
             0.6666666666666666,
             "#ed7953"
            ],
            [
             0.7777777777777778,
             "#fb9f3a"
            ],
            [
             0.8888888888888888,
             "#fdca26"
            ],
            [
             1,
             "#f0f921"
            ]
           ]
          },
          "colorway": [
           "#636efa",
           "#EF553B",
           "#00cc96",
           "#ab63fa",
           "#FFA15A",
           "#19d3f3",
           "#FF6692",
           "#B6E880",
           "#FF97FF",
           "#FECB52"
          ],
          "font": {
           "color": "#2a3f5f"
          },
          "geo": {
           "bgcolor": "white",
           "lakecolor": "white",
           "landcolor": "#E5ECF6",
           "showlakes": true,
           "showland": true,
           "subunitcolor": "white"
          },
          "hoverlabel": {
           "align": "left"
          },
          "hovermode": "closest",
          "mapbox": {
           "style": "light"
          },
          "paper_bgcolor": "white",
          "plot_bgcolor": "#E5ECF6",
          "polar": {
           "angularaxis": {
            "gridcolor": "white",
            "linecolor": "white",
            "ticks": ""
           },
           "bgcolor": "#E5ECF6",
           "radialaxis": {
            "gridcolor": "white",
            "linecolor": "white",
            "ticks": ""
           }
          },
          "scene": {
           "xaxis": {
            "backgroundcolor": "#E5ECF6",
            "gridcolor": "white",
            "gridwidth": 2,
            "linecolor": "white",
            "showbackground": true,
            "ticks": "",
            "zerolinecolor": "white"
           },
           "yaxis": {
            "backgroundcolor": "#E5ECF6",
            "gridcolor": "white",
            "gridwidth": 2,
            "linecolor": "white",
            "showbackground": true,
            "ticks": "",
            "zerolinecolor": "white"
           },
           "zaxis": {
            "backgroundcolor": "#E5ECF6",
            "gridcolor": "white",
            "gridwidth": 2,
            "linecolor": "white",
            "showbackground": true,
            "ticks": "",
            "zerolinecolor": "white"
           }
          },
          "shapedefaults": {
           "line": {
            "color": "#2a3f5f"
           }
          },
          "ternary": {
           "aaxis": {
            "gridcolor": "white",
            "linecolor": "white",
            "ticks": ""
           },
           "baxis": {
            "gridcolor": "white",
            "linecolor": "white",
            "ticks": ""
           },
           "bgcolor": "#E5ECF6",
           "caxis": {
            "gridcolor": "white",
            "linecolor": "white",
            "ticks": ""
           }
          },
          "title": {
           "x": 0.05
          },
          "xaxis": {
           "automargin": true,
           "gridcolor": "white",
           "linecolor": "white",
           "ticks": "",
           "title": {
            "standoff": 15
           },
           "zerolinecolor": "white",
           "zerolinewidth": 2
          },
          "yaxis": {
           "automargin": true,
           "gridcolor": "white",
           "linecolor": "white",
           "ticks": "",
           "title": {
            "standoff": 15
           },
           "zerolinecolor": "white",
           "zerolinewidth": 2
          }
         }
        },
        "xaxis": {
         "anchor": "y",
         "domain": [
          0,
          1
         ],
         "title": {
          "text": "step"
         }
        },
        "yaxis": {
         "anchor": "x",
         "domain": [
          0,
          1
         ],
         "title": {
          "text": "value"
         }
        }
       }
      }
     },
     "metadata": {}
    }
   ],
   "source": [
    "\n",
    "# Plot performance.\n",
    "loss_df = pd.DataFrame()\n",
    "for key in history.history:\n",
    "    loss_df[key] = history.history[key]\n",
    "fig = px.line(loss_df)\n",
    "fig.update_xaxes(title=dict(text='step'))\n",
    "fig.show()"
   ]
  },
  {
   "cell_type": "code",
   "execution_count": null,
   "metadata": {},
   "outputs": [],
   "source": []
  }
 ],
 "metadata": {
  "kernelspec": {
   "name": "python3",
   "display_name": "Python 3.7.10 64-bit ('vae': conda)",
   "metadata": {
    "interpreter": {
     "hash": "140e6223de6b5c8616b1e049a50657f859082de8e524a5af1a5887f4c657ed17"
    }
   }
  },
  "language_info": {
   "codemirror_mode": {
    "name": "ipython",
    "version": 3
   },
   "file_extension": ".py",
   "mimetype": "text/x-python",
   "name": "python",
   "nbconvert_exporter": "python",
   "pygments_lexer": "ipython3",
   "version": "3.7.10-final"
  }
 },
 "nbformat": 4,
 "nbformat_minor": 4
}