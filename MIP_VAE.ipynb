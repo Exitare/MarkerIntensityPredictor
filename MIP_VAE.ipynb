{
 "cells": [
  {
   "cell_type": "code",
   "execution_count": 1,
   "metadata": {},
   "outputs": [
    {
     "data": {
      "text/html": [
       "        <script type=\"text/javascript\">\n",
       "        window.PlotlyConfig = {MathJaxConfig: 'local'};\n",
       "        if (window.MathJax) {MathJax.Hub.Config({SVG: {font: \"STIX-Web\"}});}\n",
       "        if (typeof require !== 'undefined') {\n",
       "        require.undef(\"plotly\");\n",
       "        requirejs.config({\n",
       "            paths: {\n",
       "                'plotly': ['https://cdn.plot.ly/plotly-latest.min']\n",
       "            }\n",
       "        });\n",
       "        require(['plotly'], function(Plotly) {\n",
       "            window._Plotly = Plotly;\n",
       "        });\n",
       "        }\n",
       "        </script>\n",
       "        "
      ]
     },
     "metadata": {},
     "output_type": "display_data"
    }
   ],
   "source": [
    "import numpy as np\n",
    "import pandas as pd\n",
    "from keras import layers\n",
    "from keras.layers import Input, Dense, Activation, ZeroPadding2D, BatchNormalization, Flatten, Conv2D\n",
    "from keras.layers import AveragePooling2D, MaxPooling2D, Dropout, GlobalMaxPooling2D, GlobalAveragePooling2D\n",
    "from keras.models import Model, Sequential\n",
    "from keras.utils.vis_utils import model_to_dot\n",
    "from keras.utils import plot_model\n",
    "from tensorflow.keras.layers.experimental import preprocessing\n",
    "import pydot\n",
    "from IPython.display import SVG\n",
    "from sklearn.model_selection import train_test_split\n",
    "import keras.backend as K\n",
    "K.set_image_data_format('channels_last')\n",
    "import math\n",
    "import keras\n",
    "\n",
    "from matplotlib import pyplot as plt\n",
    "import math\n",
    "\n",
    "import matplotlib.pyplot as plt\n",
    "from matplotlib.pyplot import imshow\n",
    "from plotly.offline import init_notebook_mode, iplot\n",
    "from plotly.graph_objs import *\n",
    "from keras import regularizers\n",
    "# initiate notebook for offline plot\n",
    "init_notebook_mode(connected=True)\n",
    "\n",
    "import tensorflow as tf\n",
    "from tensorflow import keras\n",
    "from tensorflow.keras import layers"
   ]
  },
  {
   "cell_type": "markdown",
   "metadata": {},
   "source": [
    "The models in this script are implemented using the \"functional\" API of Keras (as opposed to its \"sequencial\" API, [their differences](https://stackoverflow.com/a/58092554/947889)). \n",
    "\n",
    "Interesting blog posts:\n",
    "- https://keras.io/examples/generative/vae/\n",
    "- https://towardsdatascience.com/understanding-variational-autoencoders-vaes-f70510919f73\n",
    "- http://louistiao.me/posts/implementing-variational-autoencoders-in-keras-beyond-the-quickstart-tutorial/"
   ]
  },
  {
   "cell_type": "markdown",
   "metadata": {},
   "source": [
    "# Load and Normalize Data"
   ]
  },
  {
   "cell_type": "code",
   "execution_count": 2,
   "metadata": {},
   "outputs": [],
   "source": [
    "def get_data():\n",
    "    # Load Data\n",
    "    # We load data into RAM since data is small and will fit in memory.\n",
    "    cells = pd.read_csv(\"tumor_cycif.csv\")\n",
    "    \n",
    "    # Keeps only the 'interesting' columns.\n",
    "    cells = cells.filter(regex=\"Cell Masks$\", axis=1).filter(regex=\"^(?!(Goat|DAPI))\", axis=1)\n",
    "    cells = np.array(cells)\n",
    "    \n",
    "    # Normalize Data\n",
    "    # A simple max normalization, may worth trying \n",
    "    # alternative normalization methods \n",
    "    # (e.g., 0-1 normalization)\n",
    "    cells = cells / cells.max(axis=0)\n",
    "    \n",
    "    # NOTE\n",
    "    # Plotting data (e.g., value distribution on boxplot)\n",
    "    # before and after nomalization is a good practice\n",
    "    # to get yourself familiar with the data.\n",
    "    # A good normalization will bring all the data to \n",
    "    # a common scale and roughly similar distribution.\n",
    "    \n",
    "    return cells"
   ]
  },
  {
   "cell_type": "markdown",
   "metadata": {},
   "source": [
    "# Test Loaded Data"
   ]
  },
  {
   "cell_type": "code",
   "execution_count": 3,
   "metadata": {},
   "outputs": [],
   "source": [
    "inputs = get_data()\n",
    "\n",
    "# Number of cells\n",
    "assert inputs.shape[0] == 12142\n",
    "# Number of features per input\n",
    "assert inputs.shape[1] == 25"
   ]
  },
  {
   "cell_type": "markdown",
   "metadata": {},
   "source": [
    "# Define the Autoencoder"
   ]
  },
  {
   "cell_type": "markdown",
   "metadata": {},
   "source": [
    "## Create a Sampling Layer"
   ]
  },
  {
   "cell_type": "code",
   "execution_count": 4,
   "metadata": {},
   "outputs": [],
   "source": [
    "def sampling(mu_log_variance):\n",
    "    z_mean, z_log_var = mu_log_variance\n",
    "    batch = tf.shape(z_mean)[0]\n",
    "    dim = tf.shape(z_mean)[1]\n",
    "    epsilon = tf.keras.backend.random_normal(shape=(batch, dim))\n",
    "    return z_mean + tf.exp(0.5 * z_log_var) * epsilon"
   ]
  },
  {
   "cell_type": "markdown",
   "metadata": {},
   "source": [
    "## Build the Encoder"
   ]
  },
  {
   "cell_type": "code",
   "execution_count": 5,
   "metadata": {},
   "outputs": [
    {
     "name": "stdout",
     "output_type": "stream",
     "text": [
      "Model: \"encoder_model\"\n",
      "__________________________________________________________________________________________________\n",
      "Layer (type)                    Output Shape         Param #     Connected to                     \n",
      "==================================================================================================\n",
      "input_1 (InputLayer)            [(None, 25)]         0                                            \n",
      "__________________________________________________________________________________________________\n",
      "dense (Dense)                   (None, 25)           650         input_1[0][0]                    \n",
      "__________________________________________________________________________________________________\n",
      "dense_1 (Dense)                 (None, 12)           312         dense[0][0]                      \n",
      "__________________________________________________________________________________________________\n",
      "dense_2 (Dense)                 (None, 6)            78          dense_1[0][0]                    \n",
      "__________________________________________________________________________________________________\n",
      "z_mean (Dense)                  (None, 2)            14          dense_2[0][0]                    \n",
      "__________________________________________________________________________________________________\n",
      "z_log_var (Dense)               (None, 2)            14          dense_2[0][0]                    \n",
      "__________________________________________________________________________________________________\n",
      "encoder_output (Lambda)         (None, 2)            0           z_mean[0][0]                     \n",
      "                                                                 z_log_var[0][0]                  \n",
      "==================================================================================================\n",
      "Total params: 1,068\n",
      "Trainable params: 1,068\n",
      "Non-trainable params: 0\n",
      "__________________________________________________________________________________________________\n"
     ]
    }
   ],
   "source": [
    "# length of latent vector.\n",
    "latent_dim = 2\n",
    "\n",
    "inputs_dim = inputs.shape[1]\n",
    "\n",
    "r = regularizers.l1(10e-5)\n",
    "\n",
    "encoder_inputs = keras.Input(shape=(inputs_dim))\n",
    "h1 = layers.Dense(inputs_dim, activation=\"relu\", activity_regularizer=r)(encoder_inputs)\n",
    "h2 = layers.Dense(inputs_dim / 2, activation=\"relu\", activity_regularizer=r)(h1)\n",
    "h3 = layers.Dense(inputs_dim / 4, activation=\"relu\", activity_regularizer=r)(h2)\n",
    "\n",
    "# last layer before flatten\n",
    "lbf = h3\n",
    "\n",
    "# The following is for the convenience of building the decoder.\n",
    "# shape before flatten. \n",
    "sbf = keras.backend.int_shape(lbf)[1:]\n",
    "# neurons count before latent dim\n",
    "nbl = np.prod(sbf)\n",
    "\n",
    "# VAE with normal distribution.\n",
    "# This distribution will be randomly sampled to \n",
    "# return the output of the encoder.\n",
    "z_mean = layers.Dense(latent_dim, name=\"z_mean\")(lbf)\n",
    "z_log_var = layers.Dense(latent_dim, name=\"z_log_var\")(lbf)\n",
    "\n",
    "# Randomly sample the distribution. \n",
    "encoder_output = keras.layers.Lambda(sampling, name=\"encoder_output\")([z_mean, z_log_var])\n",
    "\n",
    "encoder = keras.models.Model(encoder_inputs, encoder_output, name=\"encoder_model\")\n",
    "encoder.summary()"
   ]
  },
  {
   "cell_type": "markdown",
   "metadata": {},
   "source": [
    "## Build the Decoder"
   ]
  },
  {
   "cell_type": "code",
   "execution_count": 6,
   "metadata": {},
   "outputs": [
    {
     "name": "stdout",
     "output_type": "stream",
     "text": [
      "Model: \"decoder\"\n",
      "_________________________________________________________________\n",
      "Layer (type)                 Output Shape              Param #   \n",
      "=================================================================\n",
      "input_2 (InputLayer)         [(None, 2)]               0         \n",
      "_________________________________________________________________\n",
      "dense_3 (Dense)              (None, 6)                 18        \n",
      "_________________________________________________________________\n",
      "dense_4 (Dense)              (None, 12)                84        \n",
      "_________________________________________________________________\n",
      "dense_5 (Dense)              (None, 25)                325       \n",
      "=================================================================\n",
      "Total params: 427\n",
      "Trainable params: 427\n",
      "Non-trainable params: 0\n",
      "_________________________________________________________________\n"
     ]
    }
   ],
   "source": [
    "decoder_inputs = keras.Input(shape=(latent_dim))\n",
    "h1 = layers.Dense(nbl, activation=\"relu\")(decoder_inputs)\n",
    "h2 = layers.Dense(inputs_dim / 2, activation=\"relu\")(h1)\n",
    "\n",
    "# last decoder layer\n",
    "ldl = h2\n",
    "decoder_outputs = layers.Dense(inputs_dim, activation=\"sigmoid\")(ldl)\n",
    "decoder = keras.Model(decoder_inputs, decoder_outputs, name=\"decoder\")\n",
    "decoder.summary()\n",
    "\n",
    "# Visualize the model.\n",
    "# tf.keras.utils.plot_model(model, to_file=\"model.png\")"
   ]
  },
  {
   "cell_type": "markdown",
   "metadata": {},
   "source": [
    "## Custom Loss Function: KL Divergence\n",
    "\n",
    "We implement [Kullback–Leibler (KL) divergence, also called relative entropy](https://en.wikipedia.org/wiki/Kullback–Leibler_divergence)\n",
    "loss function, which \"is a measure of how one probability distribution is different from a second, reference probability distribution.\"\n",
    "\n",
    "**Note:** This KL loss implementation is based on the code given [in this blog post](https://blog.paperspace.com/how-to-build-variational-autoencoder-keras/) and [this blog post](http://louistiao.me/posts/implementing-variational-autoencoders-in-keras-beyond-the-quickstart-tutorial/)."
   ]
  },
  {
   "cell_type": "code",
   "execution_count": 7,
   "metadata": {},
   "outputs": [],
   "source": [
    "def loss_func(encoder_mu, encoder_log_variance):\n",
    "\n",
    "    def vae_loss(encoder_mu, encoder_log_variance):\n",
    "        reconstruction_loss_factor = 1000\n",
    "        reconstruction_loss = reconstruction_loss_factor * keras.backend.mean(keras.backend.square(encoder_mu - encoder_log_variance)) #, axis=[1, 2, 3])\n",
    "        \n",
    "        kl_loss = -0.5 * keras.backend.sum(1.0 + encoder_log_variance - keras.backend.square(encoder_mu) - keras.backend.exp(encoder_log_variance), axis=1)\n",
    "\n",
    "        return reconstruction_loss + kl_loss\n",
    "\n",
    "    # A Note on the Syntax:\n",
    "    # This is function closure (https://en.wikipedia.org/wiki/Closure_(computer_programming)),\n",
    "    # a required syntax for custom Keras loss functions.\n",
    "    return vae_loss"
   ]
  },
  {
   "cell_type": "markdown",
   "metadata": {},
   "source": [
    "## Train the VAE"
   ]
  },
  {
   "cell_type": "code",
   "execution_count": 8,
   "metadata": {},
   "outputs": [
    {
     "name": "stdout",
     "output_type": "stream",
     "text": [
      "Epoch 1/20\n",
      "271/271 [==============================] - 2s 4ms/step - loss: 165.7607 - mae: 0.3833 - accuracy: 0.0043 - val_loss: 42.1248 - val_mae: 0.1660 - val_accuracy: 0.0010\n",
      "Epoch 2/20\n",
      "271/271 [==============================] - 0s 1ms/step - loss: 25.8992 - mae: 0.1143 - accuracy: 0.1908 - val_loss: 15.4391 - val_mae: 0.0785 - val_accuracy: 0.4279\n",
      "Epoch 3/20\n",
      "271/271 [==============================] - 0s 1ms/step - loss: 15.7206 - mae: 0.0790 - accuracy: 0.4162 - val_loss: 14.0751 - val_mae: 0.0743 - val_accuracy: 0.3984\n",
      "Epoch 4/20\n",
      "271/271 [==============================] - 0s 1ms/step - loss: 13.2942 - mae: 0.0728 - accuracy: 0.4043 - val_loss: 9.0388 - val_mae: 0.0610 - val_accuracy: 0.4241\n",
      "Epoch 5/20\n",
      "271/271 [==============================] - 0s 1ms/step - loss: 8.6498 - mae: 0.0597 - accuracy: 0.4121 - val_loss: 5.3129 - val_mae: 0.0434 - val_accuracy: 0.4539\n",
      "Epoch 6/20\n",
      "271/271 [==============================] - 0s 1ms/step - loss: 5.1931 - mae: 0.0425 - accuracy: 0.4508 - val_loss: 4.7876 - val_mae: 0.0395 - val_accuracy: 0.4542\n",
      "Epoch 7/20\n",
      "271/271 [==============================] - 0s 1ms/step - loss: 4.9418 - mae: 0.0403 - accuracy: 0.4455 - val_loss: 4.6647 - val_mae: 0.0388 - val_accuracy: 0.4542\n",
      "Epoch 8/20\n",
      "271/271 [==============================] - 0s 1ms/step - loss: 4.8273 - mae: 0.0392 - accuracy: 0.4456 - val_loss: 4.5932 - val_mae: 0.0382 - val_accuracy: 0.4542\n",
      "Epoch 9/20\n",
      "271/271 [==============================] - 0s 1ms/step - loss: 4.6779 - mae: 0.0384 - accuracy: 0.4431 - val_loss: 4.5311 - val_mae: 0.0379 - val_accuracy: 0.4542\n",
      "Epoch 10/20\n",
      "271/271 [==============================] - 0s 1ms/step - loss: 4.7082 - mae: 0.0383 - accuracy: 0.4349 - val_loss: 4.4726 - val_mae: 0.0375 - val_accuracy: 0.4542\n",
      "Epoch 11/20\n",
      "271/271 [==============================] - 0s 1ms/step - loss: 4.5439 - mae: 0.0379 - accuracy: 0.4537 - val_loss: 4.3964 - val_mae: 0.0372 - val_accuracy: 0.4549\n",
      "Epoch 12/20\n",
      "271/271 [==============================] - 0s 1ms/step - loss: 4.6352 - mae: 0.0381 - accuracy: 0.4403 - val_loss: 4.2968 - val_mae: 0.0364 - val_accuracy: 0.4556\n",
      "Epoch 13/20\n",
      "271/271 [==============================] - 0s 1ms/step - loss: 4.4019 - mae: 0.0369 - accuracy: 0.4456 - val_loss: 4.1693 - val_mae: 0.0360 - val_accuracy: 0.4546\n",
      "Epoch 14/20\n",
      "271/271 [==============================] - 0s 1ms/step - loss: 4.3206 - mae: 0.0365 - accuracy: 0.4489 - val_loss: 4.0422 - val_mae: 0.0354 - val_accuracy: 0.4584\n",
      "Epoch 15/20\n",
      "271/271 [==============================] - 0s 1ms/step - loss: 4.1638 - mae: 0.0356 - accuracy: 0.4488 - val_loss: 3.9627 - val_mae: 0.0352 - val_accuracy: 0.4605\n",
      "Epoch 16/20\n",
      "271/271 [==============================] - 0s 1ms/step - loss: 4.0449 - mae: 0.0351 - accuracy: 0.4630 - val_loss: 3.8719 - val_mae: 0.0341 - val_accuracy: 0.4643\n",
      "Epoch 17/20\n",
      "271/271 [==============================] - 0s 1ms/step - loss: 3.8669 - mae: 0.0343 - accuracy: 0.4648 - val_loss: 3.7683 - val_mae: 0.0337 - val_accuracy: 0.4650\n",
      "Epoch 18/20\n",
      "271/271 [==============================] - 0s 1ms/step - loss: 3.7688 - mae: 0.0339 - accuracy: 0.4604 - val_loss: 3.6397 - val_mae: 0.0331 - val_accuracy: 0.4709\n",
      "Epoch 19/20\n",
      "271/271 [==============================] - 0s 1ms/step - loss: 3.7809 - mae: 0.0335 - accuracy: 0.4542 - val_loss: 3.5868 - val_mae: 0.0331 - val_accuracy: 0.4716\n",
      "Epoch 20/20\n",
      "271/271 [==============================] - 0s 1ms/step - loss: 3.6654 - mae: 0.0330 - accuracy: 0.4617 - val_loss: 3.5335 - val_mae: 0.0326 - val_accuracy: 0.4733\n"
     ]
    }
   ],
   "source": [
    "# Shape equals the encoder's input shape.\n",
    "vae_input = keras.layers.Input(shape=(inputs_dim), name=\"VAE_input\")\n",
    "# Connect VAE's input to the encoder's input to get the encoded input:\n",
    "vae_encoder_output = encoder(vae_input)\n",
    "# Feed the encoded input to the decoder:\n",
    "vae_decoder_output = decoder(vae_encoder_output)\n",
    "# The VAE model connecting encoder and decoder:\n",
    "vae = keras.models.Model(vae_input, vae_decoder_output, name=\"VAE\")\n",
    "vae.compile(optimizer=keras.optimizers.Adam(lr=0.0005), loss=loss_func(z_mean, z_log_var), metrics=['mae', 'accuracy'])\n",
    "\n",
    "\n",
    "# Visualize the model.\n",
    "#tf.keras.utils.plot_model(vae, to_file=\"model.png\")\n",
    "\n",
    "# random_state is a random seed to have a reproducible shuffling (only for dev purpose).\n",
    "X_dev,   X_val  = train_test_split(inputs, test_size=0.05, random_state=1, shuffle=True)\n",
    "X_train, X_test = train_test_split(X_dev,  test_size=0.25, random_state=1)\n",
    "\n",
    "#vae.fit(mnist_digits, epochs=30, batch_size=128)\n",
    "#history = vae.fit(X_train, epochs=30)\n",
    "history = vae.fit(X_train, X_train, epochs=20, batch_size=32, shuffle=True, validation_data=(X_test, X_test))"
   ]
  },
  {
   "cell_type": "markdown",
   "metadata": {},
   "source": [
    "## Evaluate the model"
   ]
  },
  {
   "cell_type": "code",
   "execution_count": 9,
   "metadata": {},
   "outputs": [
    {
     "name": "stdout",
     "output_type": "stream",
     "text": [
      "Summary keys:\tdict_keys(['loss', 'mae', 'accuracy', 'val_loss', 'val_mae', 'val_accuracy'])\n",
      "19/19 [==============================] - 0s 877us/step - loss: 0.0039 - mae: 0.0000e+00 - accuracy: 0.0000e+00\n",
      "\n",
      "Trained Model Evaluation:\n",
      "{'loss': 0.0038557653315365314, 'mae': 0.0, 'accuracy': 0.0}\n"
     ]
    }
   ],
   "source": [
    "print(f\"Summary keys:\\t{history.history.keys()}\")\n",
    "print(f\"\\nTrained Model Evaluation:\\n{vae.evaluate(X_val, return_dict=True)}\")"
   ]
  },
  {
   "cell_type": "code",
   "execution_count": 10,
   "metadata": {},
   "outputs": [
    {
     "data": {
      "image/png": "[encoded data removed]",
      "text/plain": [
       "<Figure size 432x216 with 1 Axes>"
      ]
     },
     "metadata": {
      "needs_background": "light"
     },
     "output_type": "display_data"
    },
    {
     "data": {
      "image/png": "[encoded data removed]",
      "text/plain": [
       "<Figure size 432x216 with 1 Axes>"
      ]
     },
     "metadata": {
      "needs_background": "light"
     },
     "output_type": "display_data"
    },
    {
     "data": {
      "image/png": "[encoded data removed]",
      "text/plain": [
       "<Figure size 432x216 with 1 Axes>"
      ]
     },
     "metadata": {
      "needs_background": "light"
     },
     "output_type": "display_data"
    }
   ],
   "source": [
    "def plot(train, test, x_label):\n",
    "    fig = plt.figure(figsize=(6, 3))\n",
    "    ax = fig.add_axes([0, 0, 1, 1])\n",
    "    ax.plot(train, label='train')\n",
    "    ax.plot(test,  label='test')\n",
    "    plt.xlabel('Epoch')\n",
    "    plt.ylabel(x_label)\n",
    "    plt.legend(loc='upper right')\n",
    "    plt.show()\n",
    "\n",
    "# Plot loss\n",
    "plot(history.history['loss'], history.history['val_loss'], \"Loss\")\n",
    "plot(history.history['accuracy'], history.history['val_accuracy'], \"Accuracy\")\n",
    "plot(history.history['mae'], history.history['val_mae'], \"Mean Absolute Error\")"
   ]
  },
  {
   "cell_type": "markdown",
   "metadata": {},
   "source": [
    "## Make Some Predictions\n",
    "Note that for the prediction we're using the `X_val` set that was not visibile to training, hence the model could not try to fit according to its data."
   ]
  },
  {
   "cell_type": "code",
   "execution_count": 11,
   "metadata": {},
   "outputs": [
    {
     "name": "stdout",
     "output_type": "stream",
     "text": [
      "input shape:\t(1, 25)\n",
      "encoded shape:\t(1, 2)\n",
      "decoded shape:\t(1, 25)\n",
      "\n",
      "Input:\n",
      "[[0.32963865 0.12029535 0.3482253  0.10357982 0.11856559 0.0190552\n",
      "  0.02020249 0.07890082 0.02669097 0.06759945 0.20809464 0.14431114\n",
      "  0.16248371 0.00919389 0.07390262 0.2177318  0.10069739 0.26985696\n",
      "  0.01555001 0.00087921 0.09674463 0.00639349 0.01425467 0.00129095\n",
      "  0.00431621]]\n",
      "\n",
      "Encoded:\n",
      "[[ 0.33460402 -2.015102  ]]\n",
      "\n",
      "Decoded:\n",
      "[[0.28137273 0.09689924 0.34853983 0.10898975 0.26157236 0.05894402\n",
      "  0.03634831 0.07853222 0.04805848 0.04339275 0.21691397 0.08994874\n",
      "  0.15993264 0.03848079 0.05824509 0.12068814 0.10126224 0.22766823\n",
      "  0.03026533 0.01181594 0.1409038  0.07706508 0.01132819 0.02137256\n",
      "  0.04094294]]\n"
     ]
    }
   ],
   "source": [
    "cell = X_val[0]\n",
    "# cell = cell.reshape(1, cell.shape[0], 1)\n",
    "cell = cell.reshape(1, cell.shape[0])\n",
    "encoded_cell = encoder.predict(cell)\n",
    "decoded_cell = decoder.predict(encoded_cell)\n",
    "var_cell = vae.predict(cell)\n",
    "print(f\"input shape:\\t{cell.shape}\")\n",
    "print(f\"encoded shape:\\t{encoded_cell.shape}\")\n",
    "print(f\"decoded shape:\\t{decoded_cell.shape}\")\n",
    "print(f\"\\nInput:\\n{cell}\")\n",
    "print(f\"\\nEncoded:\\n{encoded_cell}\")\n",
    "print(f\"\\nDecoded:\\n{decoded_cell}\")"
   ]
  }
 ],
 "metadata": {
  "kernelspec": {
   "display_name": ".venv",
   "language": "python",
   "name": ".venv"
  },
  "language_info": {
   "codemirror_mode": {
    "name": "ipython",
    "version": 3
   },
   "file_extension": ".py",
   "mimetype": "text/x-python",
   "name": "python",
   "nbconvert_exporter": "python",
   "pygments_lexer": "ipython3",
   "version": "3.8.0"
  }
 },
 "nbformat": 4,
 "nbformat_minor": 4
}
