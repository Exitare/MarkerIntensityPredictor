{
 "cells": [
  {
   "cell_type": "code",
   "execution_count": 1,
   "metadata": {},
   "outputs": [
    {
     "data": {
      "text/html": [
       "        <script type=\"text/javascript\">\n",
       "        window.PlotlyConfig = {MathJaxConfig: 'local'};\n",
       "        if (window.MathJax) {MathJax.Hub.Config({SVG: {font: \"STIX-Web\"}});}\n",
       "        if (typeof require !== 'undefined') {\n",
       "        require.undef(\"plotly\");\n",
       "        requirejs.config({\n",
       "            paths: {\n",
       "                'plotly': ['https://cdn.plot.ly/plotly-latest.min']\n",
       "            }\n",
       "        });\n",
       "        require(['plotly'], function(Plotly) {\n",
       "            window._Plotly = Plotly;\n",
       "        });\n",
       "        }\n",
       "        </script>\n",
       "        "
      ]
     },
     "metadata": {},
     "output_type": "display_data"
    }
   ],
   "source": [
    "import numpy as np\n",
    "import pandas as pd\n",
    "from keras import layers\n",
    "from keras.layers import Input, Dense, Activation, ZeroPadding2D, BatchNormalization, Flatten, Conv2D\n",
    "from keras.layers import AveragePooling2D, MaxPooling2D, Dropout, GlobalMaxPooling2D, GlobalAveragePooling2D\n",
    "from keras.models import Model, Sequential\n",
    "from keras.utils.vis_utils import model_to_dot\n",
    "from keras.utils import plot_model\n",
    "from tensorflow.keras.layers.experimental import preprocessing\n",
    "import pydot\n",
    "from IPython.display import SVG\n",
    "from sklearn.model_selection import train_test_split\n",
    "import keras.backend as K\n",
    "K.set_image_data_format('channels_last')\n",
    "import math\n",
    "import keras\n",
    "\n",
    "from matplotlib import pyplot as plt\n",
    "import math\n",
    "\n",
    "import matplotlib.pyplot as plt\n",
    "from matplotlib.pyplot import imshow\n",
    "from plotly.offline import init_notebook_mode, iplot\n",
    "from plotly.graph_objs import *\n",
    "from keras import regularizers\n",
    "# initiate notebook for offline plot\n",
    "init_notebook_mode(connected=True)\n",
    "\n",
    "import tensorflow as tf\n",
    "from tensorflow import keras\n",
    "from tensorflow.keras import layers"
   ]
  },
  {
   "cell_type": "markdown",
   "metadata": {},
   "source": [
    "The models in this script are implemented using the \"functional\" API of Keras (as opposed to its \"sequencial\" API, [their differences](https://stackoverflow.com/a/58092554/947889)). \n",
    "\n",
    "Interesting blog posts:\n",
    "- https://keras.io/examples/generative/vae/\n",
    "- https://towardsdatascience.com/understanding-variational-autoencoders-vaes-f70510919f73\n",
    "- http://louistiao.me/posts/implementing-variational-autoencoders-in-keras-beyond-the-quickstart-tutorial/"
   ]
  },
  {
   "cell_type": "markdown",
   "metadata": {},
   "source": [
    "# Load and Normalize Data"
   ]
  },
  {
   "cell_type": "code",
   "execution_count": 2,
   "metadata": {},
   "outputs": [],
   "source": [
    "def get_data():\n",
    "    # Load Data\n",
    "    # We load data into RAM since data is small and will fit in memory.\n",
    "    cells = pd.read_csv(\"tumor_cycif.csv\")\n",
    "    \n",
    "    # Keeps only the 'interesting' columns.\n",
    "    cells = cells.filter(regex=\"Cell Masks$\", axis=1).filter(regex=\"^(?!(Goat|DAPI))\", axis=1)\n",
    "    cells = np.array(cells)\n",
    "    \n",
    "    # Normalize Data\n",
    "    # A simple max normalization, may worth trying \n",
    "    # alternative normalization methods \n",
    "    # (e.g., 0-1 normalization)\n",
    "    cells = cells / cells.max(axis=0)\n",
    "    \n",
    "    # NOTE\n",
    "    # Plotting data (e.g., value distribution on boxplot)\n",
    "    # before and after nomalization is a good practice\n",
    "    # to get yourself familiar with the data.\n",
    "    # A good normalization will bring all the data to \n",
    "    # a common scale and roughly similar distribution.\n",
    "    \n",
    "    return cells"
   ]
  },
  {
   "cell_type": "markdown",
   "metadata": {},
   "source": [
    "# Test Loaded Data"
   ]
  },
  {
   "cell_type": "code",
   "execution_count": 3,
   "metadata": {},
   "outputs": [],
   "source": [
    "inputs = get_data()\n",
    "\n",
    "# Number of cells\n",
    "assert inputs.shape[0] == 12142\n",
    "# Number of features per input\n",
    "assert inputs.shape[1] == 25"
   ]
  },
  {
   "cell_type": "markdown",
   "metadata": {},
   "source": [
    "# Define the Autoencoder"
   ]
  },
  {
   "cell_type": "markdown",
   "metadata": {},
   "source": [
    "## Create a Sampling Layer"
   ]
  },
  {
   "cell_type": "code",
   "execution_count": 4,
   "metadata": {},
   "outputs": [],
   "source": [
    "def sampling(mu_log_variance):\n",
    "    z_mean, z_log_var = mu_log_variance\n",
    "    batch = tf.shape(z_mean)[0]\n",
    "    dim = tf.shape(z_mean)[1]\n",
    "    epsilon = tf.keras.backend.random_normal(shape=(batch, dim))\n",
    "    return z_mean + tf.exp(0.5 * z_log_var) * epsilon"
   ]
  },
  {
   "cell_type": "markdown",
   "metadata": {},
   "source": [
    "## Build the Encoder"
   ]
  },
  {
   "cell_type": "code",
   "execution_count": 37,
   "metadata": {},
   "outputs": [
    {
     "name": "stdout",
     "output_type": "stream",
     "text": [
      "Model: \"encoder_model\"\n",
      "__________________________________________________________________________________________________\n",
      "Layer (type)                    Output Shape         Param #     Connected to                     \n",
      "==================================================================================================\n",
      "input_12 (InputLayer)           [(None, 25)]         0                                            \n",
      "__________________________________________________________________________________________________\n",
      "dense_33 (Dense)                (None, 25)           650         input_12[0][0]                   \n",
      "__________________________________________________________________________________________________\n",
      "dense_34 (Dense)                (None, 12)           312         dense_33[0][0]                   \n",
      "__________________________________________________________________________________________________\n",
      "dense_35 (Dense)                (None, 8)            104         dense_34[0][0]                   \n",
      "__________________________________________________________________________________________________\n",
      "z_mean (Dense)                  (None, 4)            36          dense_35[0][0]                   \n",
      "__________________________________________________________________________________________________\n",
      "z_log_var (Dense)               (None, 4)            36          dense_35[0][0]                   \n",
      "__________________________________________________________________________________________________\n",
      "encoder_output (Lambda)         (None, 4)            0           z_mean[0][0]                     \n",
      "                                                                 z_log_var[0][0]                  \n",
      "==================================================================================================\n",
      "Total params: 1,138\n",
      "Trainable params: 1,138\n",
      "Non-trainable params: 0\n",
      "__________________________________________________________________________________________________\n"
     ]
    }
   ],
   "source": [
    "# length of latent vector.\n",
    "latent_dim = 4\n",
    "\n",
    "inputs_dim = inputs.shape[1]\n",
    "\n",
    "r = regularizers.l1(10e-5)\n",
    "\n",
    "encoder_inputs = keras.Input(shape=(inputs_dim))\n",
    "h1 = layers.Dense(inputs_dim, activation=\"relu\", activity_regularizer=r)(encoder_inputs)\n",
    "h2 = layers.Dense(inputs_dim / 2, activation=\"relu\", activity_regularizer=r)(h1)\n",
    "h3 = layers.Dense(inputs_dim / 3, activation=\"relu\", activity_regularizer=r)(h2)\n",
    "\n",
    "# last layer before flatten\n",
    "lbf = h3\n",
    "\n",
    "# The following is for the convenience of building the decoder.\n",
    "# shape before flatten. \n",
    "sbf = keras.backend.int_shape(lbf)[1:]\n",
    "# neurons count before latent dim\n",
    "nbl = np.prod(sbf)\n",
    "\n",
    "# VAE with normal distribution.\n",
    "# This distribution will be randomly sampled to \n",
    "# return the output of the encoder.\n",
    "z_mean = layers.Dense(latent_dim, name=\"z_mean\")(lbf)\n",
    "z_log_var = layers.Dense(latent_dim, name=\"z_log_var\")(lbf)\n",
    "\n",
    "# Randomly sample the distribution. \n",
    "encoder_output = keras.layers.Lambda(sampling, name=\"encoder_output\")([z_mean, z_log_var])\n",
    "\n",
    "encoder = keras.models.Model(encoder_inputs, encoder_output, name=\"encoder_model\")\n",
    "encoder.summary()"
   ]
  },
  {
   "cell_type": "markdown",
   "metadata": {},
   "source": [
    "## Build the Decoder"
   ]
  },
  {
   "cell_type": "code",
   "execution_count": 38,
   "metadata": {},
   "outputs": [
    {
     "name": "stdout",
     "output_type": "stream",
     "text": [
      "Model: \"decoder\"\n",
      "_________________________________________________________________\n",
      "Layer (type)                 Output Shape              Param #   \n",
      "=================================================================\n",
      "input_13 (InputLayer)        [(None, 4)]               0         \n",
      "_________________________________________________________________\n",
      "dense_36 (Dense)             (None, 8)                 40        \n",
      "_________________________________________________________________\n",
      "dense_37 (Dense)             (None, 12)                108       \n",
      "_________________________________________________________________\n",
      "dense_38 (Dense)             (None, 25)                325       \n",
      "=================================================================\n",
      "Total params: 473\n",
      "Trainable params: 473\n",
      "Non-trainable params: 0\n",
      "_________________________________________________________________\n"
     ]
    }
   ],
   "source": [
    "decoder_inputs = keras.Input(shape=(latent_dim))\n",
    "h1 = layers.Dense(nbl, activation=\"relu\")(decoder_inputs)\n",
    "h2 = layers.Dense(inputs_dim / 2, activation=\"relu\")(h1)\n",
    "\n",
    "# last decoder layer\n",
    "ldl = h2\n",
    "decoder_outputs = layers.Dense(inputs_dim, activation=\"sigmoid\")(ldl)\n",
    "decoder = keras.Model(decoder_inputs, decoder_outputs, name=\"decoder\")\n",
    "decoder.summary()\n",
    "\n",
    "# Visualize the model.\n",
    "# tf.keras.utils.plot_model(model, to_file=\"model.png\")"
   ]
  },
  {
   "cell_type": "markdown",
   "metadata": {},
   "source": [
    "## Custom Loss Function: KL Divergence\n",
    "\n",
    "We implement [Kullback–Leibler (KL) divergence, also called relative entropy](https://en.wikipedia.org/wiki/Kullback–Leibler_divergence)\n",
    "loss function, which \"is a measure of how one probability distribution is different from a second, reference probability distribution.\"\n",
    "\n",
    "**Note:** This KL loss implementation is based on the code given [in this blog post](https://blog.paperspace.com/how-to-build-variational-autoencoder-keras/) and [this blog post](http://louistiao.me/posts/implementing-variational-autoencoders-in-keras-beyond-the-quickstart-tutorial/)."
   ]
  },
  {
   "cell_type": "code",
   "execution_count": 39,
   "metadata": {},
   "outputs": [],
   "source": [
    "def loss_func(encoder_mu, encoder_log_variance):\n",
    "\n",
    "    def vae_loss(encoder_mu, encoder_log_variance):\n",
    "        reconstruction_loss_factor = 1000\n",
    "        reconstruction_loss = reconstruction_loss_factor * keras.backend.mean(keras.backend.square(encoder_mu - encoder_log_variance)) #, axis=[1, 2, 3])\n",
    "        \n",
    "        kl_loss = -0.5 * keras.backend.sum(1.0 + encoder_log_variance - keras.backend.square(encoder_mu) - keras.backend.exp(encoder_log_variance), axis=1)\n",
    "\n",
    "        return reconstruction_loss + kl_loss\n",
    "\n",
    "    # A Note on the Syntax:\n",
    "    # This is function closure (https://en.wikipedia.org/wiki/Closure_(computer_programming)),\n",
    "    # a required syntax for custom Keras loss functions.\n",
    "    return vae_loss"
   ]
  },
  {
   "cell_type": "markdown",
   "metadata": {},
   "source": [
    "## Train the VAE"
   ]
  },
  {
   "cell_type": "code",
   "execution_count": 40,
   "metadata": {},
   "outputs": [
    {
     "name": "stdout",
     "output_type": "stream",
     "text": [
      "Epoch 1/100\n",
      "1082/1082 [==============================] - 2s 1ms/step - loss: 76.8689 - mae: 0.2095 - accuracy: 0.1681 - val_loss: 5.5057 - val_mae: 0.0426 - val_accuracy: 0.4487\n",
      "Epoch 2/100\n",
      "1082/1082 [==============================] - 1s 1ms/step - loss: 5.2694 - mae: 0.0410 - accuracy: 0.4320 - val_loss: 4.4339 - val_mae: 0.0372 - val_accuracy: 0.4535\n",
      "Epoch 3/100\n",
      "1082/1082 [==============================] - 1s 1ms/step - loss: 4.4755 - mae: 0.0374 - accuracy: 0.4424 - val_loss: 3.5023 - val_mae: 0.0320 - val_accuracy: 0.4626\n",
      "Epoch 4/100\n",
      "1082/1082 [==============================] - 1s 1ms/step - loss: 3.3608 - mae: 0.0311 - accuracy: 0.4354 - val_loss: 3.1123 - val_mae: 0.0299 - val_accuracy: 0.4584\n",
      "Epoch 5/100\n",
      "1082/1082 [==============================] - 1s 1ms/step - loss: 3.2259 - mae: 0.0297 - accuracy: 0.4554 - val_loss: 2.8408 - val_mae: 0.0278 - val_accuracy: 0.4875\n",
      "Epoch 6/100\n",
      "1082/1082 [==============================] - 1s 1ms/step - loss: 2.8146 - mae: 0.0278 - accuracy: 0.4941 - val_loss: 2.4838 - val_mae: 0.0255 - val_accuracy: 0.5534\n",
      "Epoch 7/100\n",
      "1082/1082 [==============================] - 1s 1ms/step - loss: 2.4798 - mae: 0.0256 - accuracy: 0.5485 - val_loss: 2.3286 - val_mae: 0.0245 - val_accuracy: 0.5881\n",
      "Epoch 8/100\n",
      "1082/1082 [==============================] - 1s 1ms/step - loss: 2.4138 - mae: 0.0247 - accuracy: 0.5755 - val_loss: 2.1797 - val_mae: 0.0235 - val_accuracy: 0.6002\n",
      "Epoch 9/100\n",
      "1082/1082 [==============================] - 1s 1ms/step - loss: 2.2962 - mae: 0.0241 - accuracy: 0.5908 - val_loss: 1.9911 - val_mae: 0.0223 - val_accuracy: 0.6259\n",
      "Epoch 10/100\n",
      "1082/1082 [==============================] - 1s 1ms/step - loss: 2.0621 - mae: 0.0230 - accuracy: 0.6091 - val_loss: 1.9247 - val_mae: 0.0221 - val_accuracy: 0.6259\n",
      "Epoch 11/100\n",
      "1082/1082 [==============================] - 1s 1ms/step - loss: 2.0254 - mae: 0.0227 - accuracy: 0.6091 - val_loss: 1.8956 - val_mae: 0.0216 - val_accuracy: 0.6269\n",
      "Epoch 12/100\n",
      "1082/1082 [==============================] - 1s 1ms/step - loss: 1.9602 - mae: 0.0221 - accuracy: 0.6199 - val_loss: 1.8678 - val_mae: 0.0214 - val_accuracy: 0.6189\n",
      "Epoch 13/100\n",
      "1082/1082 [==============================] - 1s 1ms/step - loss: 1.9039 - mae: 0.0217 - accuracy: 0.5996 - val_loss: 1.8563 - val_mae: 0.0213 - val_accuracy: 0.6193\n",
      "Epoch 14/100\n",
      "1082/1082 [==============================] - 1s 1ms/step - loss: 1.9633 - mae: 0.0219 - accuracy: 0.6087 - val_loss: 1.8375 - val_mae: 0.0212 - val_accuracy: 0.6269\n",
      "Epoch 15/100\n",
      "1082/1082 [==============================] - 1s 1ms/step - loss: 1.8780 - mae: 0.0213 - accuracy: 0.6164 - val_loss: 1.8337 - val_mae: 0.0209 - val_accuracy: 0.6196\n",
      "Epoch 16/100\n",
      "1082/1082 [==============================] - 1s 1ms/step - loss: 1.8849 - mae: 0.0214 - accuracy: 0.6128 - val_loss: 1.8117 - val_mae: 0.0206 - val_accuracy: 0.6259\n",
      "Epoch 17/100\n",
      "1082/1082 [==============================] - 2s 1ms/step - loss: 1.8435 - mae: 0.0212 - accuracy: 0.6121 - val_loss: 1.8056 - val_mae: 0.0205 - val_accuracy: 0.6266\n",
      "Epoch 18/100\n",
      "1082/1082 [==============================] - 1s 1ms/step - loss: 1.8460 - mae: 0.0211 - accuracy: 0.6186 - val_loss: 1.7985 - val_mae: 0.0206 - val_accuracy: 0.6227\n",
      "Epoch 19/100\n",
      "1082/1082 [==============================] - 1s 1ms/step - loss: 1.8254 - mae: 0.0209 - accuracy: 0.6105 - val_loss: 1.7898 - val_mae: 0.0203 - val_accuracy: 0.6196\n",
      "Epoch 20/100\n",
      "1082/1082 [==============================] - 1s 1ms/step - loss: 1.8242 - mae: 0.0207 - accuracy: 0.6191 - val_loss: 1.7846 - val_mae: 0.0204 - val_accuracy: 0.6345\n",
      "Epoch 21/100\n",
      "1082/1082 [==============================] - 1s 1ms/step - loss: 1.8360 - mae: 0.0207 - accuracy: 0.6184 - val_loss: 1.7815 - val_mae: 0.0202 - val_accuracy: 0.6245\n",
      "Epoch 22/100\n",
      "1082/1082 [==============================] - 1s 1ms/step - loss: 1.8220 - mae: 0.0206 - accuracy: 0.6049 - val_loss: 1.7638 - val_mae: 0.0202 - val_accuracy: 0.6252\n",
      "Epoch 23/100\n",
      "1082/1082 [==============================] - 1s 1ms/step - loss: 1.7729 - mae: 0.0204 - accuracy: 0.6131 - val_loss: 1.7560 - val_mae: 0.0201 - val_accuracy: 0.6307\n",
      "Epoch 24/100\n",
      "1082/1082 [==============================] - 1s 1ms/step - loss: 1.7802 - mae: 0.0202 - accuracy: 0.6231 - val_loss: 1.7455 - val_mae: 0.0200 - val_accuracy: 0.6311\n",
      "Epoch 25/100\n",
      "1082/1082 [==============================] - 1s 1ms/step - loss: 1.7958 - mae: 0.0202 - accuracy: 0.6133 - val_loss: 1.7469 - val_mae: 0.0199 - val_accuracy: 0.6273\n",
      "Epoch 26/100\n",
      "1082/1082 [==============================] - 1s 1ms/step - loss: 1.8118 - mae: 0.0204 - accuracy: 0.6183 - val_loss: 1.7326 - val_mae: 0.0199 - val_accuracy: 0.6307\n",
      "Epoch 27/100\n",
      "1082/1082 [==============================] - 1s 1ms/step - loss: 1.7879 - mae: 0.0202 - accuracy: 0.6147 - val_loss: 1.7311 - val_mae: 0.0198 - val_accuracy: 0.6283\n",
      "Epoch 28/100\n",
      "1082/1082 [==============================] - 1s 1ms/step - loss: 1.7974 - mae: 0.0202 - accuracy: 0.6170 - val_loss: 1.7161 - val_mae: 0.0196 - val_accuracy: 0.6335\n",
      "Epoch 29/100\n",
      "1082/1082 [==============================] - 1s 1ms/step - loss: 1.7441 - mae: 0.0199 - accuracy: 0.6285 - val_loss: 1.7120 - val_mae: 0.0195 - val_accuracy: 0.6366\n",
      "Epoch 30/100\n",
      "1082/1082 [==============================] - 1s 1ms/step - loss: 1.7052 - mae: 0.0196 - accuracy: 0.6245 - val_loss: 1.7186 - val_mae: 0.0198 - val_accuracy: 0.6338\n",
      "Epoch 31/100\n",
      "1082/1082 [==============================] - 1s 1ms/step - loss: 1.7436 - mae: 0.0198 - accuracy: 0.6169 - val_loss: 1.7056 - val_mae: 0.0194 - val_accuracy: 0.6383\n",
      "Epoch 32/100\n",
      "1082/1082 [==============================] - 1s 1ms/step - loss: 1.7379 - mae: 0.0199 - accuracy: 0.6200 - val_loss: 1.7124 - val_mae: 0.0195 - val_accuracy: 0.6221\n",
      "Epoch 33/100\n",
      "1082/1082 [==============================] - 1s 1ms/step - loss: 1.7268 - mae: 0.0198 - accuracy: 0.6207 - val_loss: 1.7127 - val_mae: 0.0196 - val_accuracy: 0.6245\n",
      "Epoch 34/100\n",
      "1082/1082 [==============================] - 1s 1ms/step - loss: 1.8232 - mae: 0.0201 - accuracy: 0.6236 - val_loss: 1.7258 - val_mae: 0.0195 - val_accuracy: 0.6241\n",
      "Epoch 35/100\n",
      "1082/1082 [==============================] - 1s 1ms/step - loss: 1.7435 - mae: 0.0197 - accuracy: 0.6344 - val_loss: 1.7079 - val_mae: 0.0192 - val_accuracy: 0.6588\n",
      "Epoch 36/100\n",
      "1082/1082 [==============================] - 1s 1ms/step - loss: 1.6907 - mae: 0.0195 - accuracy: 0.6347 - val_loss: 1.6914 - val_mae: 0.0191 - val_accuracy: 0.6352\n",
      "Epoch 37/100\n",
      "1082/1082 [==============================] - 1s 1ms/step - loss: 1.7504 - mae: 0.0197 - accuracy: 0.6287 - val_loss: 1.6877 - val_mae: 0.0193 - val_accuracy: 0.6484\n",
      "Epoch 38/100\n",
      "1082/1082 [==============================] - 1s 1ms/step - loss: 1.7320 - mae: 0.0195 - accuracy: 0.6284 - val_loss: 1.6949 - val_mae: 0.0193 - val_accuracy: 0.6644\n",
      "Epoch 39/100\n",
      "1082/1082 [==============================] - 1s 1ms/step - loss: 1.6840 - mae: 0.0194 - accuracy: 0.6465 - val_loss: 1.6989 - val_mae: 0.0194 - val_accuracy: 0.6519\n",
      "Epoch 40/100\n",
      "1082/1082 [==============================] - 1s 1ms/step - loss: 1.7449 - mae: 0.0196 - accuracy: 0.6432 - val_loss: 1.6914 - val_mae: 0.0194 - val_accuracy: 0.6262\n",
      "Epoch 41/100\n",
      "1082/1082 [==============================] - 1s 1ms/step - loss: 1.7023 - mae: 0.0194 - accuracy: 0.6444 - val_loss: 1.6971 - val_mae: 0.0193 - val_accuracy: 0.5693\n",
      "Epoch 42/100\n",
      "1082/1082 [==============================] - 1s 1ms/step - loss: 1.7011 - mae: 0.0194 - accuracy: 0.6356 - val_loss: 1.6736 - val_mae: 0.0191 - val_accuracy: 0.6647\n",
      "Epoch 43/100\n",
      "1082/1082 [==============================] - 1s 1ms/step - loss: 1.7104 - mae: 0.0194 - accuracy: 0.6434 - val_loss: 1.6812 - val_mae: 0.0192 - val_accuracy: 0.6598\n",
      "Epoch 44/100\n",
      "1082/1082 [==============================] - 1s 1ms/step - loss: 1.7523 - mae: 0.0194 - accuracy: 0.6442 - val_loss: 1.6712 - val_mae: 0.0192 - val_accuracy: 0.6605\n",
      "Epoch 45/100\n",
      "1082/1082 [==============================] - 1s 1ms/step - loss: 1.6835 - mae: 0.0192 - accuracy: 0.6565 - val_loss: 1.6693 - val_mae: 0.0190 - val_accuracy: 0.6526\n",
      "Epoch 46/100\n",
      "1082/1082 [==============================] - 1s 1ms/step - loss: 1.7038 - mae: 0.0193 - accuracy: 0.6621 - val_loss: 1.6603 - val_mae: 0.0189 - val_accuracy: 0.6696\n",
      "Epoch 47/100\n",
      "1082/1082 [==============================] - 1s 1ms/step - loss: 1.6861 - mae: 0.0191 - accuracy: 0.6527 - val_loss: 1.6562 - val_mae: 0.0190 - val_accuracy: 0.6637\n",
      "Epoch 48/100\n",
      "1082/1082 [==============================] - 1s 1ms/step - loss: 1.6685 - mae: 0.0192 - accuracy: 0.6577 - val_loss: 1.6619 - val_mae: 0.0190 - val_accuracy: 0.6644\n",
      "Epoch 49/100\n",
      "1082/1082 [==============================] - 1s 1ms/step - loss: 1.6675 - mae: 0.0190 - accuracy: 0.6571 - val_loss: 1.6515 - val_mae: 0.0189 - val_accuracy: 0.6602\n",
      "Epoch 50/100\n",
      "1082/1082 [==============================] - 1s 1ms/step - loss: 1.7431 - mae: 0.0193 - accuracy: 0.6554 - val_loss: 1.6555 - val_mae: 0.0189 - val_accuracy: 0.6727\n",
      "Epoch 51/100\n",
      "1082/1082 [==============================] - 1s 1ms/step - loss: 1.6684 - mae: 0.0190 - accuracy: 0.6610 - val_loss: 1.6510 - val_mae: 0.0188 - val_accuracy: 0.6796\n",
      "Epoch 52/100\n",
      "1082/1082 [==============================] - 1s 1ms/step - loss: 1.6997 - mae: 0.0192 - accuracy: 0.6673 - val_loss: 1.6646 - val_mae: 0.0191 - val_accuracy: 0.6605\n",
      "Epoch 53/100\n",
      "1082/1082 [==============================] - 1s 1ms/step - loss: 1.6990 - mae: 0.0194 - accuracy: 0.6637 - val_loss: 1.6651 - val_mae: 0.0189 - val_accuracy: 0.6668\n",
      "Epoch 54/100\n",
      "1082/1082 [==============================] - 1s 1ms/step - loss: 1.6761 - mae: 0.0190 - accuracy: 0.6612 - val_loss: 1.6424 - val_mae: 0.0188 - val_accuracy: 0.6557\n",
      "Epoch 55/100\n",
      "1082/1082 [==============================] - 1s 1ms/step - loss: 1.6348 - mae: 0.0189 - accuracy: 0.6651 - val_loss: 1.6484 - val_mae: 0.0188 - val_accuracy: 0.6765\n",
      "Epoch 56/100\n",
      "1082/1082 [==============================] - 1s 1ms/step - loss: 1.6433 - mae: 0.0190 - accuracy: 0.6704 - val_loss: 1.6315 - val_mae: 0.0186 - val_accuracy: 0.6765\n",
      "Epoch 57/100\n",
      "1082/1082 [==============================] - 1s 1ms/step - loss: 1.6586 - mae: 0.0190 - accuracy: 0.6677 - val_loss: 1.6341 - val_mae: 0.0186 - val_accuracy: 0.6640\n",
      "Epoch 58/100\n",
      "1082/1082 [==============================] - 1s 1ms/step - loss: 1.6842 - mae: 0.0190 - accuracy: 0.6646 - val_loss: 1.6322 - val_mae: 0.0186 - val_accuracy: 0.6765\n",
      "Epoch 59/100\n",
      "1082/1082 [==============================] - 1s 1ms/step - loss: 1.6384 - mae: 0.0189 - accuracy: 0.6686 - val_loss: 1.6345 - val_mae: 0.0185 - val_accuracy: 0.6640\n",
      "Epoch 60/100\n",
      "1082/1082 [==============================] - 1s 1ms/step - loss: 1.6251 - mae: 0.0187 - accuracy: 0.6732 - val_loss: 1.6465 - val_mae: 0.0188 - val_accuracy: 0.6491\n",
      "Epoch 61/100\n",
      "1082/1082 [==============================] - 1s 1ms/step - loss: 1.6183 - mae: 0.0188 - accuracy: 0.6737 - val_loss: 1.6395 - val_mae: 0.0190 - val_accuracy: 0.6623\n",
      "Epoch 62/100\n",
      "1082/1082 [==============================] - 1s 1ms/step - loss: 1.6140 - mae: 0.0189 - accuracy: 0.6770 - val_loss: 1.6158 - val_mae: 0.0184 - val_accuracy: 0.6813\n",
      "Epoch 63/100\n",
      "1082/1082 [==============================] - 1s 1ms/step - loss: 1.6748 - mae: 0.0191 - accuracy: 0.6742 - val_loss: 1.6294 - val_mae: 0.0185 - val_accuracy: 0.6637\n",
      "Epoch 64/100\n",
      "1082/1082 [==============================] - 1s 1ms/step - loss: 1.6666 - mae: 0.0189 - accuracy: 0.6841 - val_loss: 1.6247 - val_mae: 0.0187 - val_accuracy: 0.6782\n",
      "Epoch 65/100\n",
      "1082/1082 [==============================] - 1s 1ms/step - loss: 1.5854 - mae: 0.0186 - accuracy: 0.6827 - val_loss: 1.6217 - val_mae: 0.0185 - val_accuracy: 0.6820\n",
      "Epoch 66/100\n",
      "1082/1082 [==============================] - 1s 1ms/step - loss: 1.6355 - mae: 0.0187 - accuracy: 0.6728 - val_loss: 1.6362 - val_mae: 0.0186 - val_accuracy: 0.6689\n",
      "Epoch 67/100\n",
      "1082/1082 [==============================] - 1s 1ms/step - loss: 1.6412 - mae: 0.0189 - accuracy: 0.6771 - val_loss: 1.6141 - val_mae: 0.0185 - val_accuracy: 0.6817\n",
      "Epoch 68/100\n",
      "1082/1082 [==============================] - 2s 1ms/step - loss: 1.6245 - mae: 0.0188 - accuracy: 0.6834 - val_loss: 1.6094 - val_mae: 0.0185 - val_accuracy: 0.6709\n",
      "Epoch 69/100\n",
      "1082/1082 [==============================] - 1s 1ms/step - loss: 1.6123 - mae: 0.0187 - accuracy: 0.6853 - val_loss: 1.6115 - val_mae: 0.0183 - val_accuracy: 0.6834\n",
      "Epoch 70/100\n",
      "1082/1082 [==============================] - 1s 1ms/step - loss: 1.6375 - mae: 0.0188 - accuracy: 0.6768 - val_loss: 1.6056 - val_mae: 0.0183 - val_accuracy: 0.6834\n",
      "Epoch 71/100\n",
      "1082/1082 [==============================] - 1s 1ms/step - loss: 1.6182 - mae: 0.0187 - accuracy: 0.6783 - val_loss: 1.6117 - val_mae: 0.0183 - val_accuracy: 0.6800\n",
      "Epoch 72/100\n",
      "1082/1082 [==============================] - 1s 1ms/step - loss: 1.6206 - mae: 0.0188 - accuracy: 0.6783 - val_loss: 1.6195 - val_mae: 0.0185 - val_accuracy: 0.6755\n",
      "Epoch 73/100\n",
      "1082/1082 [==============================] - 2s 2ms/step - loss: 1.6265 - mae: 0.0188 - accuracy: 0.6794 - val_loss: 1.6190 - val_mae: 0.0189 - val_accuracy: 0.6786\n",
      "Epoch 74/100\n",
      "1082/1082 [==============================] - 1s 1ms/step - loss: 1.5844 - mae: 0.0186 - accuracy: 0.6839 - val_loss: 1.5996 - val_mae: 0.0184 - val_accuracy: 0.6886\n",
      "Epoch 75/100\n",
      "1082/1082 [==============================] - 1s 1ms/step - loss: 1.6157 - mae: 0.0186 - accuracy: 0.6782 - val_loss: 1.6040 - val_mae: 0.0183 - val_accuracy: 0.6748\n",
      "Epoch 76/100\n",
      "1082/1082 [==============================] - 2s 1ms/step - loss: 1.5864 - mae: 0.0185 - accuracy: 0.6761 - val_loss: 1.6032 - val_mae: 0.0184 - val_accuracy: 0.6727\n",
      "Epoch 77/100\n",
      "1082/1082 [==============================] - 1s 1ms/step - loss: 1.6841 - mae: 0.0190 - accuracy: 0.6774 - val_loss: 1.6081 - val_mae: 0.0185 - val_accuracy: 0.6522\n",
      "Epoch 78/100\n",
      "1082/1082 [==============================] - 2s 2ms/step - loss: 1.6199 - mae: 0.0186 - accuracy: 0.6811 - val_loss: 1.5949 - val_mae: 0.0183 - val_accuracy: 0.6682\n",
      "Epoch 79/100\n",
      "1082/1082 [==============================] - 1s 1ms/step - loss: 1.6258 - mae: 0.0187 - accuracy: 0.6808 - val_loss: 1.5982 - val_mae: 0.0184 - val_accuracy: 0.6730\n",
      "Epoch 80/100\n",
      "1082/1082 [==============================] - 1s 1ms/step - loss: 1.6134 - mae: 0.0186 - accuracy: 0.6874 - val_loss: 1.5975 - val_mae: 0.0185 - val_accuracy: 0.6623\n",
      "Epoch 81/100\n",
      "1082/1082 [==============================] - 1s 1ms/step - loss: 1.6385 - mae: 0.0186 - accuracy: 0.6975 - val_loss: 1.5947 - val_mae: 0.0183 - val_accuracy: 0.6824\n",
      "Epoch 82/100\n",
      "1082/1082 [==============================] - 2s 1ms/step - loss: 1.5837 - mae: 0.0184 - accuracy: 0.6904 - val_loss: 1.5927 - val_mae: 0.0183 - val_accuracy: 0.6692\n",
      "Epoch 83/100\n",
      "1082/1082 [==============================] - 2s 2ms/step - loss: 1.6161 - mae: 0.0185 - accuracy: 0.6814 - val_loss: 1.5868 - val_mae: 0.0185 - val_accuracy: 0.6831\n",
      "Epoch 84/100\n",
      "1082/1082 [==============================] - 1s 1ms/step - loss: 1.5932 - mae: 0.0185 - accuracy: 0.6823 - val_loss: 1.5985 - val_mae: 0.0186 - val_accuracy: 0.6876\n",
      "Epoch 85/100\n",
      "1082/1082 [==============================] - 1s 1ms/step - loss: 1.6229 - mae: 0.0187 - accuracy: 0.6811 - val_loss: 1.5971 - val_mae: 0.0184 - val_accuracy: 0.6720\n",
      "Epoch 86/100\n",
      "1082/1082 [==============================] - 1s 1ms/step - loss: 1.6102 - mae: 0.0186 - accuracy: 0.6842 - val_loss: 1.5899 - val_mae: 0.0184 - val_accuracy: 0.6824\n",
      "Epoch 87/100\n",
      "1082/1082 [==============================] - 1s 1ms/step - loss: 1.5849 - mae: 0.0185 - accuracy: 0.6893 - val_loss: 1.5904 - val_mae: 0.0185 - val_accuracy: 0.6727\n",
      "Epoch 88/100\n",
      "1082/1082 [==============================] - 1s 1ms/step - loss: 1.5795 - mae: 0.0184 - accuracy: 0.6861 - val_loss: 1.5850 - val_mae: 0.0182 - val_accuracy: 0.6872\n",
      "Epoch 89/100\n",
      "1082/1082 [==============================] - 2s 1ms/step - loss: 1.5601 - mae: 0.0184 - accuracy: 0.6825 - val_loss: 1.5926 - val_mae: 0.0184 - val_accuracy: 0.6758\n",
      "Epoch 90/100\n",
      "1082/1082 [==============================] - 1s 1ms/step - loss: 1.5863 - mae: 0.0185 - accuracy: 0.6897 - val_loss: 1.5840 - val_mae: 0.0182 - val_accuracy: 0.6879\n",
      "Epoch 91/100\n",
      "1082/1082 [==============================] - 1s 1ms/step - loss: 1.5970 - mae: 0.0185 - accuracy: 0.6843 - val_loss: 1.5769 - val_mae: 0.0182 - val_accuracy: 0.6865\n",
      "Epoch 92/100\n",
      "1082/1082 [==============================] - 1s 1ms/step - loss: 1.6462 - mae: 0.0185 - accuracy: 0.6952 - val_loss: 1.5865 - val_mae: 0.0183 - val_accuracy: 0.6980\n",
      "Epoch 93/100\n",
      "1082/1082 [==============================] - 1s 1ms/step - loss: 1.5882 - mae: 0.0184 - accuracy: 0.6804 - val_loss: 1.5830 - val_mae: 0.0182 - val_accuracy: 0.6737\n",
      "Epoch 94/100\n",
      "1082/1082 [==============================] - 1s 1ms/step - loss: 1.6230 - mae: 0.0182 - accuracy: 0.6885 - val_loss: 1.5842 - val_mae: 0.0182 - val_accuracy: 0.6883\n",
      "Epoch 95/100\n",
      "1082/1082 [==============================] - 1s 1ms/step - loss: 1.5706 - mae: 0.0183 - accuracy: 0.6998 - val_loss: 1.5713 - val_mae: 0.0181 - val_accuracy: 0.6807\n",
      "Epoch 96/100\n",
      "1082/1082 [==============================] - 1s 1ms/step - loss: 1.5880 - mae: 0.0182 - accuracy: 0.6903 - val_loss: 1.5728 - val_mae: 0.0178 - val_accuracy: 0.6942\n",
      "Epoch 97/100\n",
      "1082/1082 [==============================] - 2s 2ms/step - loss: 1.5572 - mae: 0.0182 - accuracy: 0.6888 - val_loss: 1.5718 - val_mae: 0.0179 - val_accuracy: 0.6838\n",
      "Epoch 98/100\n",
      "1082/1082 [==============================] - 2s 2ms/step - loss: 1.5638 - mae: 0.0181 - accuracy: 0.6957 - val_loss: 1.5720 - val_mae: 0.0180 - val_accuracy: 0.6879\n",
      "Epoch 99/100\n",
      "1082/1082 [==============================] - 2s 2ms/step - loss: 1.5925 - mae: 0.0183 - accuracy: 0.6868 - val_loss: 1.5708 - val_mae: 0.0181 - val_accuracy: 0.6859\n",
      "Epoch 100/100\n",
      "1082/1082 [==============================] - 2s 1ms/step - loss: 1.5782 - mae: 0.0182 - accuracy: 0.6883 - val_loss: 1.5864 - val_mae: 0.0184 - val_accuracy: 0.6598\n"
     ]
    }
   ],
   "source": [
    "# Shape equals the encoder's input shape.\n",
    "vae_input = keras.layers.Input(shape=(inputs_dim), name=\"VAE_input\")\n",
    "# Connect VAE's input to the encoder's input to get the encoded input:\n",
    "vae_encoder_output = encoder(vae_input)\n",
    "# Feed the encoded input to the decoder:\n",
    "vae_decoder_output = decoder(vae_encoder_output)\n",
    "# The VAE model connecting encoder and decoder:\n",
    "vae = keras.models.Model(vae_input, vae_decoder_output, name=\"VAE\")\n",
    "vae.compile(optimizer=keras.optimizers.Adam(lr=0.0005), loss=loss_func(z_mean, z_log_var), metrics=['mae', 'accuracy'])\n",
    "\n",
    "\n",
    "# Visualize the model.\n",
    "#tf.keras.utils.plot_model(vae, to_file=\"model.png\")\n",
    "\n",
    "# random_state is a random seed to have a reproducible shuffling (only for dev purpose).\n",
    "X_dev,   X_val  = train_test_split(inputs, test_size=0.05, random_state=1, shuffle=True)\n",
    "X_train, X_test = train_test_split(X_dev,  test_size=0.25, random_state=1)\n",
    "\n",
    "#vae.fit(mnist_digits, epochs=30, batch_size=128)\n",
    "#history = vae.fit(X_train, epochs=30)\n",
    "history = vae.fit(X_train, X_train, epochs=100, batch_size=8, shuffle=True, validation_data=(X_test, X_test))"
   ]
  },
  {
   "cell_type": "markdown",
   "metadata": {},
   "source": [
    "## Evaluate the model"
   ]
  },
  {
   "cell_type": "code",
   "execution_count": 43,
   "metadata": {},
   "outputs": [
    {
     "name": "stdout",
     "output_type": "stream",
     "text": [
      "Summary keys:\tdict_keys(['loss', 'mae', 'accuracy', 'val_loss', 'val_mae', 'val_accuracy'])\n",
      "19/19 [==============================] - 0s 2ms/step - loss: 0.0029 - mae: 0.0000e+00 - accuracy: 0.0000e+00\n",
      "\n",
      "Trained Model Evaluation:\n",
      "{'loss': 0.0028747515752911568, 'mae': 0.0, 'accuracy': 0.0}\n"
     ]
    }
   ],
   "source": [
    "print(f\"Summary keys:\\t{history.history.keys()}\")\n",
    "print(f\"\\nTrained Model Evaluation:\\n{vae.evaluate(X_val, return_dict=True)}\")"
   ]
  },
  {
   "cell_type": "code",
   "execution_count": 45,
   "metadata": {},
   "outputs": [
    {
     "data": {
      "image/png": "[encoded data removed]",
      "text/plain": [
       "<Figure size 432x216 with 1 Axes>"
      ]
     },
     "metadata": {
      "needs_background": "light"
     },
     "output_type": "display_data"
    },
    {
     "data": {
      "image/png": "[encoded data removed]",
      "text/plain": [
       "<Figure size 432x216 with 1 Axes>"
      ]
     },
     "metadata": {
      "needs_background": "light"
     },
     "output_type": "display_data"
    },
    {
     "data": {
      "image/png": "[encoded data removed]",
      "text/plain": [
       "<Figure size 432x216 with 1 Axes>"
      ]
     },
     "metadata": {
      "needs_background": "light"
     },
     "output_type": "display_data"
    }
   ],
   "source": [
    "def plot(train, test, x_label):\n",
    "    fig = plt.figure(figsize=(6, 3))\n",
    "    ax = fig.add_axes([0, 0, 1, 1])\n",
    "    ax.plot(train, label='train')\n",
    "    ax.plot(test,  label='test')\n",
    "    plt.xlabel('Epoch')\n",
    "    plt.ylabel(x_label)\n",
    "    plt.legend(loc='upper right')\n",
    "    plt.show()\n",
    "\n",
    "# Plot loss\n",
    "plot(history.history['loss'], history.history['val_loss'], \"Loss\")\n",
    "plot(history.history['accuracy'], history.history['val_accuracy'], \"Accuracy\")\n",
    "plot(history.history['mae'], history.history['val_mae'], \"Mean Absolute Error\")"
   ]
  },
  {
   "cell_type": "markdown",
   "metadata": {},
   "source": [
    "## Make Some Predictions\n",
    "Note that for the prediction we're using the `X_val` set that was not visibile to training, hence the model could not try to fit according to its data."
   ]
  },
  {
   "cell_type": "code",
   "execution_count": 46,
   "metadata": {},
   "outputs": [
    {
     "name": "stdout",
     "output_type": "stream",
     "text": [
      "input shape:\t(1, 25)\n",
      "encoded shape:\t(1, 4)\n",
      "decoded shape:\t(1, 25)\n",
      "\n",
      "Input:\n",
      "[[0.32963865 0.12029535 0.3482253  0.10357982 0.11856559 0.0190552\n",
      "  0.02020249 0.07890082 0.02669097 0.06759945 0.20809464 0.14431114\n",
      "  0.16248371 0.00919389 0.07390262 0.2177318  0.10069739 0.26985696\n",
      "  0.01555001 0.00087921 0.09674463 0.00639349 0.01425467 0.00129095\n",
      "  0.00431621]]\n",
      "\n",
      "Encoded:\n",
      "[[ 1.9471451 -2.0897803  2.0697916 -0.5439171]]\n",
      "\n",
      "Decoded:\n",
      "[[0.32830745 0.10390794 0.35139522 0.09484759 0.1482974  0.01831621\n",
      "  0.03320742 0.06993365 0.03307077 0.05426076 0.21864116 0.10950208\n",
      "  0.21086568 0.0229961  0.07173589 0.13104278 0.12678248 0.22663698\n",
      "  0.02819085 0.00485274 0.12156656 0.03175962 0.01619187 0.00421393\n",
      "  0.00693834]]\n"
     ]
    }
   ],
   "source": [
    "cell = X_val[0]\n",
    "# cell = cell.reshape(1, cell.shape[0], 1)\n",
    "cell = cell.reshape(1, cell.shape[0])\n",
    "encoded_cell = encoder.predict(cell)\n",
    "decoded_cell = decoder.predict(encoded_cell)\n",
    "var_cell = vae.predict(cell)\n",
    "print(f\"input shape:\\t{cell.shape}\")\n",
    "print(f\"encoded shape:\\t{encoded_cell.shape}\")\n",
    "print(f\"decoded shape:\\t{decoded_cell.shape}\")\n",
    "print(f\"\\nInput:\\n{cell}\")\n",
    "print(f\"\\nEncoded:\\n{encoded_cell}\")\n",
    "print(f\"\\nDecoded:\\n{decoded_cell}\")"
   ]
  }
 ],
 "metadata": {
  "kernelspec": {
   "display_name": ".venv",
   "language": "python",
   "name": ".venv"
  },
  "language_info": {
   "codemirror_mode": {
    "name": "ipython",
    "version": 3
   },
   "file_extension": ".py",
   "mimetype": "text/x-python",
   "name": "python",
   "nbconvert_exporter": "python",
   "pygments_lexer": "ipython3",
   "version": "3.8.0"
  }
 },
 "nbformat": 4,
 "nbformat_minor": 4
}
